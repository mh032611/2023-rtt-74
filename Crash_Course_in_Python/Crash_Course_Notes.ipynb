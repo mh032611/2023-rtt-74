{
 "cells": [
  {
   "cell_type": "markdown",
   "metadata": {},
   "source": [
    "<h1 style=\"font-size:3rem;color:orange;text-align:center\">Crash Course on Python Notes</h1>"
   ]
  },
  {
   "cell_type": "markdown",
   "metadata": {},
   "source": [
    "<p style=\"text-align:center\"><span style=\"color:#52BE80\"><span style=\"font-size:40px\">#Week 1&nbsp;</span></p>\n",
    "\n"
   ]
  },
  {
   "cell_type": "markdown",
   "metadata": {},
   "source": [
    "***"
   ]
  },
  {
   "cell_type": "markdown",
   "metadata": {},
   "source": [
    "<p style=\"text-align:center\"><span style=\"color:#AEB6BF\"><span style=\"font-size:40px\">Week 2&nbsp;</span></p>\n",
    "\n"
   ]
  },
  {
   "cell_type": "markdown",
   "metadata": {},
   "source": [
    "***"
   ]
  },
  {
   "cell_type": "markdown",
   "metadata": {},
   "source": [
    "<p style=\"text-align:center\"><span style=\"color:#e74c3c\"><span style=\"font-size:40px\">Week 3&nbsp;</span></p>\n",
    "\n"
   ]
  },
  {
   "cell_type": "markdown",
   "metadata": {},
   "source": [
    "### While loops\n"
   ]
  },
  {
   "cell_type": "code",
   "execution_count": null,
   "metadata": {},
   "outputs": [
    {
     "name": "stdout",
     "output_type": "stream",
     "text": [
      "Not there yet, x = 0\n",
      "Not there yet, x = 1\n",
      "Not there yet, x = 2\n",
      "Not there yet, x = 3\n",
      "Not there yet, x = 4\n",
      "X = 5\n"
     ]
    }
   ],
   "source": [
    "x = 0 #initializing\n",
    "while x < 5:\n",
    "    print (\"Not there yet, x = \" + str(x))\n",
    "    x += 1 # (x = x + 1) line used to increment the value of x\n",
    "print(\"X = \" + str(x))\n"
   ]
  },
  {
   "cell_type": "markdown",
   "metadata": {},
   "source": [
    "Anatomy of a While Loop\n",
    "\n",
    "A while loop will continuously execute code depending on the value of a condition. It begins with the keyword while, followed by a comparison to be evaluated, then a colon. On the next line is the code block to be executed, indented to the right. Similar to an if statement, the code in the body will only be executed if the comparison is evaluated to be true. What sets a while loop apart, however, is that this code block will keep executing as long as the evaluation statement is true. Once the statement is no longer true, the loop exits and the next line of code will be executed.  "
   ]
  },
  {
   "cell_type": "code",
   "execution_count": null,
   "metadata": {},
   "outputs": [
    {
     "name": "stdout",
     "output_type": "stream",
     "text": [
      "Attempt 1\n",
      "Attempt 2\n",
      "Attempt 3\n",
      "Attempt 4\n",
      "Attempt 5\n",
      "Done\n"
     ]
    }
   ],
   "source": [
    "def attempts(n):\n",
    "    x = 1 #initialized \n",
    "    while x <= n: \n",
    "        print(\"Attempt \" + str(x))\n",
    "        x += 1 #increments \n",
    "    print(\"Done\")\n",
    "    \n",
    "attempts(5)"
   ]
  },
  {
   "cell_type": "code",
   "execution_count": null,
   "metadata": {},
   "outputs": [
    {
     "name": "stdout",
     "output_type": "stream",
     "text": [
      "3\n",
      "2\n",
      "1\n",
      "Zero!\n"
     ]
    }
   ],
   "source": [
    "def count_down(start_number):\n",
    "  current = start_number\n",
    "  while (current > 0):\n",
    "    print(current)\n",
    "    current -= 1\n",
    "  print(\"Zero!\")\n",
    "\n",
    "count_down(3)"
   ]
  },
  {
   "cell_type": "markdown",
   "metadata": {},
   "source": [
    "Common Pitfalls With Variable Initialization\n",
    "\n",
    "You'll want to watch out for a common mistake: forgetting to initialize variables. If you try to use a variable without first initializing it, you'll run into a NameError. This is the Python interpreter catching the mistake and telling you that you’re using an undefined variable. The fix is pretty simple: initialize the variable by assigning the variable a value before you use it.\n",
    "\n",
    "Another common mistake to watch out for that can be a little trickier to spot is forgetting to initialize variables with the correct value. If you use a variable earlier in your code and then reuse it later in a loop without first setting the value to something you want, your code may wind up doing something you didn't expect. Don't forget to initialize your variables before using them!"
   ]
  },
  {
   "cell_type": "code",
   "execution_count": null,
   "metadata": {},
   "outputs": [
    {
     "name": "stdout",
     "output_type": "stream",
     "text": [
      "1\n",
      "2\n",
      "3\n",
      "4\n",
      "5\n"
     ]
    }
   ],
   "source": [
    "# Watch out for infininte loops\n",
    "# do this by remembering to 1. initialize your variable\n",
    "# and 2. check to see your loops wont run forever. \n",
    "def print_range(start, end):\n",
    "\t# Loop through the numbers from start to end\n",
    "\tn = start\n",
    "\twhile n <= end:\n",
    "\t\tprint(n)\n",
    "\t\tn+=1 #added incrementer to make sure while loop iterates \n",
    "\n",
    "print_range(1, 5)  # Should print 1 2 3 4 5 (each number on its own line) "
   ]
  },
  {
   "cell_type": "markdown",
   "metadata": {},
   "source": [
    "Infinite loops and Code Blocks\n",
    "\n",
    "Another easy mistake that can happen when using loops is introducing an infinite loop. An infinite loop means the code block in the loop will continue to execute and never stop. This can happen when the condition being evaluated in a while loop doesn't change. Pay close attention to your variables and what possible values they can take. Think about unexpected values, like zero.\n",
    "\n",
    "In the Coursera code blocks, you may see an error message that reads \"Evaluation took more than 5 seconds to complete.\" This means that the code encountered an infinite loop, and it timed out after 5 seconds. You should take a closer look at the code and variables to spot where the infinite loop is."
   ]
  },
  {
   "cell_type": "code",
   "execution_count": null,
   "metadata": {},
   "outputs": [
    {
     "ename": "SyntaxError",
     "evalue": "invalid syntax (3979042571.py, line 6)",
     "output_type": "error",
     "traceback": [
      "\u001b[1;36m  Cell \u001b[1;32mIn [13], line 6\u001b[1;36m\u001b[0m\n\u001b[1;33m    while specified condition is True:\u001b[0m\n\u001b[1;37m                    ^\u001b[0m\n\u001b[1;31mSyntaxError\u001b[0m\u001b[1;31m:\u001b[0m invalid syntax\n"
     ]
    }
   ],
   "source": [
    "\"\"\"A while loop executes the body of the loop while a \n",
    "specified condition remains True. They are commonly\n",
    " used when there's an unknown number of operations to be \n",
    " performed, and a condition needs to be checked at each iteration.\n",
    "\"\"\"\n",
    "while specified condition is True:\n",
    "    body of loop"
   ]
  },
  {
   "cell_type": "code",
   "execution_count": null,
   "metadata": {},
   "outputs": [],
   "source": [
    "multiplier = 1\n",
    "result = multiplier*5\n",
    "while result <= 50:\n",
    "  print(result)\n",
    "  multiplier += 1\n",
    "  result = multiplier*5\n",
    "print(\"Done\")\n",
    "\n",
    "# This while loop prints the multiples of 5 between 1 and 50. The\n",
    "# \"multiplier\" variable is initialized with the starting value of 1. \n",
    "# The \"result\" variable is initialized with the value of the \n",
    "# \"multiplier\" variable times 5. \n",
    " \n",
    "# The while loop specifies that the loop must iterate while it is True \n",
    "# that the \"result\" is less than or equal to 50. Within the while loop, \n",
    "# the code tells the Python interpreter to print the value of the \n",
    "# \"result\" variable. Then, the \"multiplier\" is incremented by 1 and the\n",
    "# \"result\" is assigned the new value of the \"multiplier\" times 5. \n",
    " \n",
    "# The end of the while loop is indicated by the indentation of the next \n",
    "# line of code moving one tab to the left. At this point, the Python\n",
    "# interpreter automatically loops back to the beginning of the while\n",
    "# loop to check the condition again with the new value of the \"result\"\n",
    "# variable. When the while loop condition becomes False (meaning\n",
    "# \"result\" is no longer less than or equal to 50), the interpreter exits\n",
    "# the loop and reads the next line of code outside of the loop. In this \n",
    "# case, that next line tells the interpreter to print the string \"Done\". \n",
    " \n",
    "# Click the \"Run\" button to check the result of this while loop."
   ]
  },
  {
   "cell_type": "markdown",
   "metadata": {},
   "source": [
    "Common Errors in while Loops\n",
    "\n",
    "If you get an error message on a loop or it appears to hang, your debugging checklist should include the following checks:\n",
    "\n",
    "Failure to initialize variables. Make sure all the variables used in the loop’s condition are initialized before the loop.\n",
    "\n",
    "Unintended infinite loops. Make sure that the body of the loop modifies the variables used in the condition, so that the loop will eventually end for all possible values of the variables. You can often prevent an infinite loop by using the break keyword or by adding end criteria to the condition part of the while loop.\n",
    "\n",
    " \n",
    "\n",
    "while Loop Terms\n",
    "\n",
    "while loop - Tells the computer to execute a set of instructions while a specified condition is True. In other words, while loops keep executing the same group of instructions until the condition becomes False.\n",
    "\n",
    "infinite loop - Missing a method for exiting the loop, causing the loop to run forever.\n",
    "\n",
    "break - A keyword that can be used to end a loop at a specific point. \n",
    "\n",
    " \n",
    "\n",
    "Math Concepts on the Practice Quiz\n",
    "\n",
    "The coding problems on the upcoming practice quiz will involve a few math concepts. Don’t worry if you are rusty on math. You will have plenty of support with these concepts on the quiz. The following is a quick overview of the math terms you will encounter on the quiz:  \n",
    "\n",
    "prime numbers - Integers that have only two factors, which are the number itself multiplied by 1. The lowest prime number is 2.\n",
    "\n",
    "prime factors - Prime numbers that are factors of an integer. For example, the prime numbers 2 and 5 are the prime factors of the number 10 (2x5=10). The prime factors of an integer will not produce a remainder when used to divide that integer. \n",
    "\n",
    "divisor - A number (denominator) that is used to divide another number (numerator). For example, if the number 10 is divided by 5, the number 5 is the divisor.\n",
    "\n",
    "sum of all divisors of a number - The result of adding all of the divisors of a number together.  \n",
    "\n",
    "multiplication table - An integer multiplied by a series of numbers and their results formatted as a table or a list. For example:\n",
    "\n",
    "                 4x1=4\n",
    "                 4x2=8\n",
    "                 4x3=12\n",
    "                 4x4=16\n",
    "                 4x5=20"
   ]
  },
  {
   "cell_type": "markdown",
   "metadata": {},
   "source": [
    "Coding skills\n",
    "Skill Group 1\n",
    "\n",
    "1. Initialize a variable\n",
    "\n",
    "2. Use a while loop that runs while a specific condition is true\n",
    "\n",
    "3. Ensure the while loop will not be an infinite loop\n",
    "\n",
    "4. Increment a value within a while loop"
   ]
  },
  {
   "cell_type": "code",
   "execution_count": null,
   "metadata": {},
   "outputs": [],
   "source": [
    "# This function counts the number of integer factors for a \n",
    "# \"given_number\" variable, passed through the function’s parameters.\n",
    "# The \"count\" return value includes the \"given_number\" itself as a \n",
    "# factor (n*1). \n",
    "def count_factors(given_number):\n",
    " \n",
    "  # To include the \"given_number\" variable as a \"factor\", initialize\n",
    "  # the \"factor\" variable with the value 1 (if the \"factor\" variable\n",
    "  # were to start at 2, the \"given_number\" itself would be excluded). \n",
    "  factor = 1\n",
    "  count = 1\n",
    " \n",
    "  # This \"if\" block will run if the \"given_number\" equals 0.\n",
    "  if given_number == 0:\n",
    "    # If True, the return value will be 0 factors. \n",
    "    return 0\n",
    " \n",
    "  # The while loop will run while the \"factor\" is still less than\n",
    "  # the \"given_number\" variable.\n",
    "  while factor < given_number:\n",
    "    # This \"if\" block checks if the \"given_number\" can be divided by\n",
    "    # the \"factor\" variable without leaving a remainder. The modulo\n",
    "    # operator % is used to test for a remainder.\n",
    "    if given_number % factor == 0:\n",
    "      # If True, then the \"factor\" variable is added to the count of\n",
    "      # the \"given_number\"’s integer factors.\n",
    "      count += 1\n",
    "    # When exiting the if block, increment the \"factor\" variable by 1\n",
    "    # to divide the \"given_number\" variable by a new \"factor\" value\n",
    "    # inside the while loop.\n",
    "    factor += 1\n",
    " \n",
    "  # When the interpreter exits either the while loop or the top if\n",
    "  # block, it will return the value of the \"count\" variable.\n",
    "  return count\n",
    " \n",
    "print(count_factors(0)) # Count value will be 0\n",
    "print(count_factors(3)) # Should count 2 factors (1x3)\n",
    "print(count_factors(10)) # Should count 4 factors (1x10, 2x5)\n",
    "print(count_factors(24)) # Should count 8 factors (1x24, 2x12, 3x8,\n",
    "# and 4x6). "
   ]
  },
  {
   "cell_type": "markdown",
   "metadata": {},
   "source": [
    "Skill Group 2\n",
    "\n",
    "1. Initialize variables to assign data types before they are used in a while loop \n",
    "\n",
    "2. Use the break keyword as an exit point for a while loop"
   ]
  },
  {
   "cell_type": "code",
   "execution_count": null,
   "metadata": {},
   "outputs": [],
   "source": [
    "# This function outputs an addition table. It is written to end after\n",
    "# printing 5 lines of the addition table, but it will break out of the\n",
    "# loop if the \"my_sum\" variable exceeds 20. \n",
    " \n",
    "# The function accepts a \"given_number\" variable through its \n",
    "# parameters.\n",
    "def addition_table(given_number):\n",
    " \n",
    "    # The \"iterated_number\" and \"my_sum\" variables are initialized with\n",
    "    # the value of 1. Although the \"my_sum\" variable does not need any\n",
    "    # specific initial value, it still must be assigned a data type\n",
    "    # before being used in the while loop. By initializing \"my_sum\"\n",
    "    # with any integer, the data type will be set to int.\n",
    "    iterated_number = 1\n",
    "    my_sum = 1\n",
    " \n",
    "    # The while loop will run while it is True that the   \n",
    "    # \"iterated_number\" is less than or equal to 5.\n",
    "    while iterated_number <= 5:\n",
    " \n",
    "        # The \"my_sum\" variable is assigned the value of the\n",
    "        # \"given_number\" plus the \"iterated_number\" variables.\n",
    "        my_sum = given_number + iterated_number\n",
    " \n",
    "        # Test to see if the \"my_sum\" variable is greater than 20.\n",
    "        if my_sum > 20:\n",
    "            # If True, then use the break keyword to exit the loop. \n",
    "            break\n",
    "        # If False, the Python interpreter will move to the next line \n",
    "        # in the while loop after the if-statement has ended.  \n",
    " \n",
    "        # The print function will output the \"given_number\" plus\n",
    "        # the \"iterated_number\" equals \"my_sum\".\n",
    "        print(str(given_number), \"+\", str(iterated_number), \"=\", str(my_sum))\n",
    " \n",
    "        # Increment the \"iterated_number\" before the while loop starts\n",
    "        # over again to print a new \"my_sum\" value.\n",
    "        iterated_number += 1\n",
    " \n",
    " \n",
    "addition_table(5)\n",
    "addition_table(17)\n",
    "addition_table(30)\n",
    "\n",
    "# Expected output:\n",
    "# 5 + 1 = 6\n",
    "# 5 + 2 = 7\n",
    "# 5 + 3 = 8\n",
    "# 5 + 4 = 9\n",
    "# 5 + 5 = 10\n",
    "# 17 + 1 = 18\n",
    "# 17 + 2 = 19\n",
    "# 17 + 3 = 20\n",
    "# None"
   ]
  },
  {
   "cell_type": "markdown",
   "metadata": {},
   "source": [
    "### For loops"
   ]
  },
  {
   "cell_type": "markdown",
   "metadata": {},
   "source": [
    "#### For Loops Recap\n"
   ]
  },
  {
   "cell_type": "markdown",
   "metadata": {},
   "source": [
    "For loops allow you to iterate over a sequence of values. Let's take the example from the beginning of the video:\n",
    "\n",
    "for x in range(5):\n",
    "\n",
    "  print(x)\n",
    "\n",
    "Similar to if statements and while loops, for loops begin with the keyword for with a colon at the end of the line. Just like in function definitions, while loops and if statements, the body of the for loop begins on the next line and is indented to the right. But what about the stuff in between the for keyword and the colon? In our example, we’re using the range() function to create a sequence of numbers that our for loop can iterate over. In this case, our variable x points to the current element in the sequence as the for loop iterates over the sequence of numbers. Keep in mind that in Python and many programming languages, a range of numbers will start at 0, and the list of numbers generated will be one less than the provided value. So range(5) will generate a sequence of numbers from 0 to 4, for a total of 5 numbers.\n",
    "\n",
    "Bringing this all together, the range(5) function will create a sequence of numbers from 0 to 4. Our for loop will iterate over this sequence of numbers, one at a time, making the numbers accessible via the variable x and the code within our loop body will execute for each iteration through the sequence. So for the first loop, x will contain 0, the next loop, 1, and so on until it reaches 4. Once the end of the sequence comes up, the loop will exit and the code will continue.\n",
    "\n",
    "The power of for loops comes from the fact that it can iterate over a sequence of any kind of data, not just a range of numbers. You can use for loops to iterate over a list of strings, such as usernames or lines in a file.\n",
    "\n",
    "Not sure whether to use a for loop or a while loop? Remember that a while loop is great for performing an action over and over until a condition has changed. A for loop works well when you want to iterate over a sequence of elements. "
   ]
  },
  {
   "cell_type": "markdown",
   "metadata": {},
   "source": [
    "#### A Closer Look at the Range( ) Function"
   ]
  },
  {
   "cell_type": "markdown",
   "metadata": {},
   "source": [
    "\n",
    "The in keyword, when used with the range() function, generates a sequence of integer numbers, which can be used with a for loop to control the start point, the end point, and the incremental values of the loop.  \n",
    "\n",
    "Syntax:"
   ]
  },
  {
   "cell_type": "code",
   "execution_count": null,
   "metadata": {},
   "outputs": [],
   "source": [
    "for n in range(x, y, z):\n",
    "    print(n)"
   ]
  },
  {
   "cell_type": "markdown",
   "metadata": {},
   "source": [
    "The range() function uses a set of indices that point to integer values, which start at the number 0. The numeric values 0, 1, 2, 3, 4 correlate to ordinal index positions 1st, 2nd, 3rd, 4th, 5th. So, when a range call to the 5th index position is made using range(5) the index is pointing to the numeric value of 4.\n",
    "\n",
    "Index Number\n",
    "\n",
    "1st index\n",
    "\n",
    "2nd index\n",
    "\n",
    "3rd index\n",
    "\n",
    "4th index\n",
    "\n",
    "5th index\n",
    "\n",
    "Value\n",
    "\n",
    "0\n",
    "\n",
    "1\n",
    "\n",
    "2\n",
    "\n",
    "3\n",
    "\n",
    "4\n",
    "\n",
    "The range() function can take up to three parameters:  range(start, stop, step) \n",
    "\n",
    "Start \n",
    "The first item in the range() function parameters is the starting position of the range. The default is the first index position, which points to the numeric value 0. This value is included in the range. \n",
    "\n",
    "Stop\n",
    "The second item in the range() function parameters is the ending position of the range. There is no default index position, so this index number must be given to the range() parameters. For example, the line for n in range(4) will loop 4 times with the n variable starting at 0 and looping 4 index positions: 0, 1, 2, 3. As you can see, range(4) (meaning index position 4) ends at the numeric value 3. In Python, this structure may be phrased as “the end-of-range value is excluded from the range.” In order to include the value 4 in  range(4), the syntax can be written as range(4+1) or range(5). Both of these ranges will produce the numeric values 0, 1, 2, 3, 4. \n",
    "\n",
    "Step\n",
    "The third item in the range() function parameters is the incremental step value. The default increment is +1. The default value can be overridden with any valid increment. However, note that the loop will still end at the end-of-range index position, regardless of the incremental value. For example, if you have a loop with the range: for n in range(1, 5, 6), the range will only produce the numeric value 1. This is because the incremental value of 6 exceeded the ending point of the range.\n",
    "\n",
    "\n",
    "Practice Exercise\n",
    "You can use the code block below to test the values of n with various range() parameters. A few suggestions to test are:\n",
    "\n",
    "range(stop)\n",
    "\n",
    "range(3) \n",
    "\n",
    "range(3+1) \n",
    "\n",
    "range(start, stop)\n",
    "\n",
    "range(2, 6)     \n",
    "\n",
    "range(5,10+1) \n",
    "\n",
    "range(start, stop, step)\n",
    "\n",
    "range(4, 15+1, 2)         \n",
    "\n",
    "range(2*2, 25, 3+2) \n",
    "\n",
    "range(10, 0, -2)  "
   ]
  },
  {
   "cell_type": "code",
   "execution_count": null,
   "metadata": {},
   "outputs": [],
   "source": [
    "for n in range(1, 5, 6):  \n",
    "    print(n)"
   ]
  },
  {
   "cell_type": "markdown",
   "metadata": {},
   "source": [
    "#### Examples of the range() function in code:"
   ]
  },
  {
   "cell_type": "code",
   "execution_count": null,
   "metadata": {},
   "outputs": [],
   "source": [
    "# This loop iterates on the value of the \"n\" variable in a range\n",
    "# of 0 to 10 (the value of the end-of-range index 11 is excluded).\n",
    "# The incremental value for the loop is 2. The print() function will \n",
    "# output the resulting value of \"n\" as the loop counts from 0 to 10 \n",
    "# (end-of-range index 11) in incremental steps of 2. This is one \n",
    "# method that can be used in Python to print a list of even numbers.\n",
    "\n",
    "\n",
    "for n in range(0,11,2):\n",
    "    print(n)\n",
    "\n",
    "\n",
    "# The loop should print 0, 2, 4, 6, 8, 10"
   ]
  },
  {
   "cell_type": "code",
   "execution_count": null,
   "metadata": {},
   "outputs": [
    {
     "name": "stdout",
     "output_type": "stream",
     "text": [
      "6\n",
      "9\n",
      "12\n",
      "15\n",
      "18\n",
      "21\n"
     ]
    }
   ],
   "source": [
    "# This loop iterates on the value of the \"number\" variable in a range\n",
    "# of 2 to 7+1 (the value of the end-of-range index 7 is excluded, so \n",
    "# +1 has been added to the parameter to include the numeric value 7 in \n",
    "# the range). The incremental value for the loop is the default of +1.\n",
    "# The print() function will output the resulting value of \"number\" \n",
    "# multiplied by 3.\n",
    "\n",
    "\n",
    "for number in range(2,7+1):\n",
    "    print(number*3)\n",
    "\n",
    "\n",
    "# The loop should print 6, 9, 12, 15, 18, 21"
   ]
  },
  {
   "cell_type": "code",
   "execution_count": null,
   "metadata": {},
   "outputs": [
    {
     "name": "stdout",
     "output_type": "stream",
     "text": [
      "2\n",
      "1\n",
      "0\n",
      "-1\n"
     ]
    }
   ],
   "source": [
    "# This loop iterates on the value of the \"x\" variable in a range\n",
    "# of 2 to -1 (the end-of-range index -2 is excluded). The third \n",
    "# parameter is also a negative number, making it a decremental value\n",
    "# of -1. The print() function will output the resulting value of\n",
    "# \"x\" as it starts at 2 and counts down to -1 (index -2).\n",
    "\n",
    "\n",
    "for x in range(2, -2, -1):\n",
    "    print(x)\n",
    "\n",
    "\n",
    "# The loop should print 2, 1, 0, -1"
   ]
  },
  {
   "cell_type": "markdown",
   "metadata": {},
   "source": [
    "Key takeaways\n",
    "\n",
    "The roles of the range(start, stop, step) function parameters are:\n",
    "\n",
    "Start - Beginning of range\n",
    "\n",
    "value included in range\n",
    "\n",
    "default = 0\n",
    "\n",
    "Stop - End of range\n",
    "\n",
    "value excluded from range (to include, use stop+1)\n",
    "\n",
    "no default\n",
    "\n",
    "must provide the ending index number \n",
    "\n",
    "Step - Incremental value \n",
    "\n",
    "default = 1\n",
    "\n",
    "Resources for more information\n",
    "Python range() function\n",
    " - This site provides some helpful visualizations for the range index positions. It also offers multiple for x in range() examples and practice exercises. "
   ]
  },
  {
   "cell_type": "markdown",
   "metadata": {},
   "source": [
    "#### Study Guide: for Loops"
   ]
  },
  {
   "cell_type": "markdown",
   "metadata": {},
   "source": [
    "This study guide provides a summary of what you learned in this segment and serves as a guide for the upcoming practice quiz.  \n",
    "\n",
    "In the for Loops segment, you learned about the logical structure and syntax of for loops. You took a closer look at the range() function. You learned about nested for loops and complex nested for loops with if statements. You also learned how to fix common errors in for loops.\n",
    "\n",
    "\n",
    "<b> for Loops vs. while Loops </b>\n",
    "\n",
    "for loops and while loops share several characteristics. Both loops can be used with a variety of data types, both can be nested, and both can be used with the keywords break and continue. However, there are important differences between the two types of loops: \n",
    "\n",
    "1. while loops are used when a segment of code needs to execute repeatedly while a condition is true\n",
    "\n",
    "2. for loops iterate over a sequence of elements, executing the body of the loop for each element in the sequence"
   ]
  },
  {
   "cell_type": "code",
   "execution_count": null,
   "metadata": {},
   "outputs": [
    {
     "ename": "SyntaxError",
     "evalue": "invalid syntax (3155855984.py, line 2)",
     "output_type": "error",
     "traceback": [
      "\u001b[1;36m  Cell \u001b[1;32mIn [15], line 2\u001b[1;36m\u001b[0m\n\u001b[1;33m    body of loop\u001b[0m\n\u001b[1;37m         ^\u001b[0m\n\u001b[1;31mSyntaxError\u001b[0m\u001b[1;31m:\u001b[0m invalid syntax\n"
     ]
    }
   ],
   "source": [
    "# The syntax of a for loop with the in keyword:\n",
    "\n",
    "for variable in sequence:\n",
    "    body of loop"
   ]
  },
  {
   "cell_type": "markdown",
   "metadata": {},
   "source": [
    "<b> Common for Loop Structures </b>\n",
    " \n",
    "for Loop with range()\n",
    "The in keyword with the range() function generates a sequence of integer numbers, which can be used with a for loop to configure the iterations of the code. The range of numbers [0, 1, 2] correlates to ordinal index positions (1st, 2nd, 3rd), rather than the cardinal (quantity) values of the numbers 0, 1, and 2. For example, range(5) means the five index positions in the range [0, 1, 2, 3, 4]. \n",
    "\n",
    "The range() function can take up to three parameters. The roles of the three possible range(x,y,z) parameters are:\n",
    "\n",
    "x = Start - Starting index position of the range \n",
    "\n",
    "Default index position is 0.\n",
    "\n",
    "The starting index position is included in the range. \n",
    "\n",
    "Example syntax: range(2, y, z) or range(x+3, y, z) \n",
    "\n",
    "y = Stop - Ending index position of range\n",
    "\n",
    "No default index position. Must include the ending index position in the range() parameters.\n",
    "\n",
    "Example syntax: range(y)\n",
    "\n",
    "The value of the ending index position is excluded from the range. \n",
    "\n",
    "To include the ending index number, use the expression: y+1 (index + 1)\n",
    "\n",
    "Example syntax: range(x, y+1, z)\n",
    "\n",
    "Alternatively, if y = 10, you can write: range(x, 11, z)\n",
    "\n",
    "z = Step - Incremental value\n",
    "\n",
    "Default increment is +1.\n",
    "\n",
    "The default value can be overridden with any valid increment.\n",
    "\n",
    "The incremental value will end the for loop before it reaches the end of range index position (end of range index minus 1).  "
   ]
  },
  {
   "cell_type": "markdown",
   "metadata": {},
   "source": [
    "### Recursion"
   ]
  },
  {
   "cell_type": "markdown",
   "metadata": {},
   "source": []
  },
  {
   "cell_type": "markdown",
   "metadata": {},
   "source": [
    "***"
   ]
  },
  {
   "cell_type": "markdown",
   "metadata": {},
   "source": [
    "<p style=\"text-align:center\"><span style=\"color:#6C3483\"><span style=\"font-size:40px\">Week 4&nbsp;</span></p>\n",
    "\n"
   ]
  },
  {
   "cell_type": "markdown",
   "metadata": {},
   "source": []
  },
  {
   "cell_type": "markdown",
   "metadata": {},
   "source": [
    "### Lists and Tuples"
   ]
  },
  {
   "cell_type": "code",
   "execution_count": null,
   "metadata": {},
   "outputs": [
    {
     "name": "stdout",
     "output_type": "stream",
     "text": [
      "(1, 23, 20)\n",
      "1 23 20\n",
      "0 16 40\n"
     ]
    }
   ],
   "source": [
    "def convert_seconds(seconds):\n",
    "    hours = seconds // 3600\n",
    "    minutes = (seconds - hours * 3600) // 60\n",
    "    remaining_seconds = seconds - hours * 3600 - minutes * 60\n",
    "    return hours, minutes, remaining_seconds\n",
    "\n",
    "result = convert_seconds(5000)\n",
    "type(result)\n",
    "# <class 'tuple'>\n",
    "print(result)\n",
    "# (1, 23, 20)\n",
    "hours, minutes, seconds = result\n",
    "print (hours, minutes, seconds)\n",
    "# 1 23 20\n",
    "hours, minutes, seconds = convert_seconds(1000)\n",
    "print(hours, minutes, seconds) \n",
    "# 0 16 40 \n",
    "    "
   ]
  },
  {
   "cell_type": "code",
   "execution_count": null,
   "metadata": {},
   "outputs": [
    {
     "name": "stdout",
     "output_type": "stream",
     "text": [
      "There are a total of 23 animals in the zoo.\n"
     ]
    }
   ],
   "source": [
    "# Iterating through a list\n",
    "animals = [\"Lion\", \"Zebra\", \"Dolphoin\", \"Monkey\"]\n",
    "chars = 0\n",
    "for animals in animals:\n",
    "    chars += len(animals)\n",
    "print(f\"There are a total of {chars} animals in the zoo.\")"
   ]
  },
  {
   "cell_type": "markdown",
   "metadata": {},
   "source": [
    "### Dictionaries"
   ]
  },
  {
   "cell_type": "code",
   "execution_count": null,
   "metadata": {},
   "outputs": [
    {
     "data": {
      "text/plain": [
       "\"\\n{'a': 2,\\n ' ': 7,\\n 'l': 3,\\n 'o': 3,\\n 'n': 2,\\n 'g': 2,\\n 's': 2,\\n 't': 5,\\n 'r': 2,\\n 'i': 2,\\n 'w': 1,\\n 'h': 1,\\n 'f': 1,\\n 'e': 2}\\n\""
      ]
     },
     "execution_count": 8,
     "metadata": {},
     "output_type": "execute_result"
    }
   ],
   "source": [
    "# Iterating over the Contents of a Dictionary\n",
    "# (Ben said that this is important)\n",
    "def count_letters(text):\n",
    "    result = {}\n",
    "    for letter in text:\n",
    "        if letter not in result:\n",
    "            result[letter]=0\n",
    "        result[letter] += 1\n",
    "    return result\n",
    "count_letters(\"aaaaa\")\n",
    "# {'a': 5}\n",
    "count_letters(\"tenant\")\n",
    "# {'t': 2, 'e': 1, 'n': 2, 'a': 1}\n",
    "count_letters(\"a long string with a lot of letters\")\n",
    "'''\n",
    "{'a': 2,\n",
    " ' ': 7,\n",
    " 'l': 3,\n",
    " 'o': 3,\n",
    " 'n': 2,\n",
    " 'g': 2,\n",
    " 's': 2,\n",
    " 't': 5,\n",
    " 'r': 2,\n",
    " 'i': 2,\n",
    " 'w': 1,\n",
    " 'h': 1,\n",
    " 'f': 1,\n",
    " 'e': 2}\n",
    "'''"
   ]
  },
  {
   "cell_type": "code",
   "execution_count": 7,
   "metadata": {},
   "outputs": [
    {
     "name": "stdout",
     "output_type": "stream",
     "text": [
      "12\n",
      "18\n",
      "24\n",
      "30\n"
     ]
    }
   ],
   "source": [
    "\n",
    "for n in range(6,18,3):\n",
    "    print(n*2)\n",
    "# 12 18 24 30\n",
    "\n",
    "\n",
    "for n in range(6,18+9,3):\n",
    "    print(n*2)\n",
    "# 12 18 24 30 36\n",
    "\n"
   ]
  },
  {
   "cell_type": "code",
   "execution_count": 13,
   "metadata": {},
   "outputs": [
    {
     "name": "stdout",
     "output_type": "stream",
     "text": [
      "0\n",
      "2\n",
      "4\n",
      "6\n",
      "8\n",
      "10\n",
      "12\n",
      "14\n",
      "16\n",
      "18\n",
      "0\n",
      "2\n",
      "4\n",
      "6\n",
      "8\n",
      "10\n",
      "12\n",
      "14\n",
      "16\n",
      "18\n"
     ]
    }
   ],
   "source": [
    "# Which for loop will print all even numbers from 0 to 18? Select all that apply.\n",
    "\n",
    "for n in range(19):\n",
    "    if n % 2 == 0:\n",
    "        print(n)\n",
    "\n",
    "\n",
    "\n",
    "for n in range(10):\n",
    "    print(n+n)"
   ]
  },
  {
   "cell_type": "code",
   "execution_count": 15,
   "metadata": {},
   "outputs": [
    {
     "name": "stdout",
     "output_type": "stream",
     "text": [
      "0\n",
      "2\n",
      "4\n",
      "6\n",
      "8\n"
     ]
    }
   ],
   "source": [
    "for sum in range(5):\n",
    "    sum += sum\n",
    "    print(sum)"
   ]
  },
  {
   "cell_type": "code",
   "execution_count": 16,
   "metadata": {},
   "outputs": [
    {
     "name": "stdout",
     "output_type": "stream",
     "text": [
      "0\n",
      "0\n",
      "1\n",
      "0\n",
      "1\n",
      "2\n",
      "0\n",
      "1\n",
      "2\n",
      "3\n",
      "0\n",
      "1\n",
      "2\n",
      "3\n",
      "4\n",
      "0\n",
      "1\n",
      "2\n",
      "3\n",
      "4\n",
      "5\n",
      "0\n",
      "1\n",
      "2\n",
      "3\n",
      "4\n",
      "5\n",
      "6\n",
      "0\n",
      "1\n",
      "2\n",
      "3\n",
      "4\n",
      "5\n",
      "6\n",
      "7\n",
      "0\n",
      "1\n",
      "2\n",
      "3\n",
      "4\n",
      "5\n",
      "6\n",
      "7\n",
      "8\n"
     ]
    }
   ],
   "source": [
    "for x in range(10):\n",
    "    for y in range(x):\n",
    "        print(y)"
   ]
  },
  {
   "cell_type": "markdown",
   "metadata": {},
   "source": [
    "***"
   ]
  },
  {
   "cell_type": "markdown",
   "metadata": {},
   "source": [
    "<p style=\"text-align:center\"><span style=\"color:#95A5A6\"><span style=\"font-size:40px\">Week 5&nbsp;</span></p>\n",
    "\n"
   ]
  },
  {
   "cell_type": "markdown",
   "metadata": {},
   "source": []
  },
  {
   "cell_type": "markdown",
   "metadata": {},
   "source": [
    "***"
   ]
  },
  {
   "cell_type": "markdown",
   "metadata": {},
   "source": [
    "<p style=\"text-align:center\"><span style=\"color:#F4D03F\"><span style=\"font-size:40px\">Week 6&nbsp;</span></p>\n",
    "\n"
   ]
  },
  {
   "cell_type": "markdown",
   "metadata": {},
   "source": []
  },
  {
   "cell_type": "markdown",
   "metadata": {},
   "source": [
    "***"
   ]
  },
  {
   "cell_type": "markdown",
   "metadata": {},
   "source": [
    "<p style=\"text-align:center\"><span style=\"color:#F4D\"><span style=\"font-size:40px\">Python Notes&nbsp;</span></p>\n",
    "\n"
   ]
  },
  {
   "cell_type": "markdown",
   "metadata": {},
   "source": [
    "## Strings"
   ]
  },
  {
   "cell_type": "code",
   "execution_count": 19,
   "metadata": {},
   "outputs": [
    {
     "name": "stdout",
     "output_type": "stream",
     "text": [
      "Valarie once said, Patience, young grasshopper.\n",
      "Valarie once said, Patience, young grasshopper.\n"
     ]
    }
   ],
   "source": [
    "#Strings \n",
    "Famous = \"Valarie\"\n",
    "\n",
    "Quote = \"Patience, young grasshopper\"\n",
    "\n",
    "print(f\"{Famous} once said, {Quote}.\") #f strings are faster \n",
    "print(\"{} once said, {}.\".format(Famous, Quote)) #This is slower than f'strings because it is done while compiled"
   ]
  },
  {
   "cell_type": "code",
   "execution_count": 24,
   "metadata": {},
   "outputs": [
    {
     "name": "stdout",
     "output_type": "stream",
     "text": [
      "Sli\n",
      "lcn\n",
      "!ses\n",
      "!ysae si sgnirts gnicilS\n",
      " \n"
     ]
    }
   ],
   "source": [
    "string1 = \"Slicing strings is easy!\"\n",
    "\n",
    "print(string1[:3])\n",
    "print(string1[1:6:2])\n",
    "print(string1[-1:-8:-2]) \n",
    "\"\"\"-1: The starting index of the slice. In Python, negative indices count from the end of the string, with -1 representing the last character of the string.\n",
    " -8: The ending index (exclusive) of the slice. In this case, it's the eighth character from the end of the string. Note that the ending index is exclusive, so the character at index -8 is not included in the result.\n",
    " -2: The step size. It determines the increment between characters in the slice. In this case, the step size is -2, which means the slicing will move from the end towards the start of the string, skipping one character at a time.\n",
    "\"\"\"\n",
    "print(string1[::-1])\n",
    "print(string1[-6])\n",
    "\n"
   ]
  },
  {
   "cell_type": "code",
   "execution_count": 39,
   "metadata": {},
   "outputs": [
    {
     "name": "stdout",
     "output_type": "stream",
     "text": [
      "!dlroW olleH\n",
      "!\n",
      "HloWrd\n",
      "l\n",
      "lo Wo\n",
      "rld!\n"
     ]
    }
   ],
   "source": [
    "\"\"\"\n",
    "Create a string to practice indexing and slicing on. \n",
    "include at lease one whitespace\n",
    "include at least one special charcter\n",
    "must have a length of at least 10\n",
    "\n",
    "complete the following\n",
    "- reverse the entire string\n",
    "- get the last character of the string\n",
    "- get every other chaccter in the string\n",
    "- get the 4th chacter in the string\n",
    "- get the 4th character through the 9th character in the string\n",
    "- get the 7th through the last character in the string\n",
    "\"\"\"\n",
    "\n",
    "string2 = \"Hello World!\"\n",
    "print(string2[::-1])\n",
    "print(string2[-1::])\n",
    "print(string2[::2])\n",
    "print(string2[3])\n",
    "print(string2[3:8:])\n",
    "print(string2[8:len(string2):])\n",
    "\n",
    "\"\"\"\"\n",
    "Bonus Problem:  File Size Formatter\n",
    "You need to create a program that converts file sizes from bytes to a more human-readable format (e.g., KB, MB, GB). Write a Python program that takes a file size in bytes as input from user and converts it. The output should be displayed in the following format:\n",
    "\n",
    "File Size: [Original Size] bytes\n",
    "Formatted Size: [Formatted Size] (KB MB GB)\n",
    "\"\"\"\n",
    "\n"
   ]
  },
  {
   "cell_type": "code",
   "execution_count": 40,
   "metadata": {},
   "outputs": [
    {
     "name": "stdout",
     "output_type": "stream",
     "text": [
      "The letter 't' appears 3 times and the letter 'o' appears 2 times.\n"
     ]
    }
   ],
   "source": [
    "\"\"\"\n",
    "Use the same new_str variable\n",
    "create the count() method to find the number of times \"t\" and \"o\" appear in a string\n",
    "create a print statement that has both results in one statement. You can use string concatenation, fstrings, or any other way you can think of!\n",
    "\"\"\"\n",
    "new_str = \"There are no traffic jams along the extra mile.\"\n",
    "\n",
    "a = new_str.count(\"t\")\n",
    "b = new_str.count(\"o\")\n",
    "print(f\"The letter 't' appears {a} times and the letter 'o' appears {b} times.\")"
   ]
  },
  {
   "cell_type": "code",
   "execution_count": null,
   "metadata": {},
   "outputs": [],
   "source": []
  },
  {
   "cell_type": "markdown",
   "metadata": {},
   "source": [
    "***"
   ]
  },
  {
   "cell_type": "markdown",
   "metadata": {},
   "source": [
    "## List Exercises"
   ]
  },
  {
   "cell_type": "code",
   "execution_count": 41,
   "metadata": {},
   "outputs": [
    {
     "name": "stdout",
     "output_type": "stream",
     "text": [
      "['apple', 'orange', 12, ['peanut', 'butter', 'jelly', 'time']]\n"
     ]
    }
   ],
   "source": [
    "new_list = ['apple', 'orange', 12, ['peanut', 'butter', 'jelly', 'time']]\n",
    "\n",
    "print(new_list)\n",
    "\n"
   ]
  }
 ],
 "metadata": {
  "kernelspec": {
   "display_name": "Python 3 (ipykernel)",
   "language": "python",
   "name": "python3"
  },
  "orig_nbformat": 4
 },
 "nbformat": 4,
 "nbformat_minor": 2
}
