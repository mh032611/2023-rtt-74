{
 "cells": [
  {
   "cell_type": "markdown",
   "metadata": {},
   "source": [
    "<h1 style=\"font-size:3rem;color:orange;text-align:center\">Crash Course on Python Notes</h1>"
   ]
  },
  {
   "cell_type": "markdown",
   "metadata": {},
   "source": [
    "<p style=\"text-align:center\"><span style=\"color:#52BE80\"><span style=\"font-size:40px\">Week 1&nbsp;</span></p>\n",
    "\n"
   ]
  },
  {
   "cell_type": "markdown",
   "metadata": {},
   "source": [
    "<p style=\"text-align:center\"><span style=\"color:#AEB6BF\"><span style=\"font-size:40px\">Week 2&nbsp;</span></p>\n",
    "\n"
   ]
  },
  {
   "cell_type": "markdown",
   "metadata": {},
   "source": [
    "<p style=\"text-align:center\"><span style=\"color:#e74c3c\"><span style=\"font-size:40px\">Week 3&nbsp;</span></p>\n",
    "\n"
   ]
  },
  {
   "cell_type": "markdown",
   "metadata": {},
   "source": [
    "### While loops\n"
   ]
  },
  {
   "cell_type": "code",
   "execution_count": 7,
   "metadata": {},
   "outputs": [
    {
     "name": "stdout",
     "output_type": "stream",
     "text": [
      "Not there yet, x = 0\n",
      "Not there yet, x = 1\n",
      "Not there yet, x = 2\n",
      "Not there yet, x = 3\n",
      "Not there yet, x = 4\n",
      "X = 5\n"
     ]
    }
   ],
   "source": [
    "x = 0 #initializing\n",
    "while x < 5:\n",
    "    print (\"Not there yet, x = \" + str(x))\n",
    "    x += 1 # (x = x + 1) line used to increment the value of x\n",
    "print(\"X = \" + str(x))\n"
   ]
  },
  {
   "cell_type": "markdown",
   "metadata": {},
   "source": [
    "Anatomy of a While Loop\n",
    "\n",
    "A while loop will continuously execute code depending on the value of a condition. It begins with the keyword while, followed by a comparison to be evaluated, then a colon. On the next line is the code block to be executed, indented to the right. Similar to an if statement, the code in the body will only be executed if the comparison is evaluated to be true. What sets a while loop apart, however, is that this code block will keep executing as long as the evaluation statement is true. Once the statement is no longer true, the loop exits and the next line of code will be executed.  "
   ]
  },
  {
   "cell_type": "code",
   "execution_count": 8,
   "metadata": {},
   "outputs": [
    {
     "name": "stdout",
     "output_type": "stream",
     "text": [
      "Attempt 1\n",
      "Attempt 2\n",
      "Attempt 3\n",
      "Attempt 4\n",
      "Attempt 5\n",
      "Done\n"
     ]
    }
   ],
   "source": [
    "def attempts(n):\n",
    "    x = 1 #initialized \n",
    "    while x <= n: \n",
    "        print(\"Attempt \" + str(x))\n",
    "        x += 1 #increments \n",
    "    print(\"Done\")\n",
    "    \n",
    "attempts(5)"
   ]
  },
  {
   "cell_type": "code",
   "execution_count": 9,
   "metadata": {},
   "outputs": [
    {
     "name": "stdout",
     "output_type": "stream",
     "text": [
      "3\n",
      "2\n",
      "1\n",
      "Zero!\n"
     ]
    }
   ],
   "source": [
    "def count_down(start_number):\n",
    "  current = start_number\n",
    "  while (current > 0):\n",
    "    print(current)\n",
    "    current -= 1\n",
    "  print(\"Zero!\")\n",
    "\n",
    "count_down(3)"
   ]
  },
  {
   "cell_type": "markdown",
   "metadata": {},
   "source": [
    "Common Pitfalls With Variable Initialization\n",
    "\n",
    "You'll want to watch out for a common mistake: forgetting to initialize variables. If you try to use a variable without first initializing it, you'll run into a NameError. This is the Python interpreter catching the mistake and telling you that you’re using an undefined variable. The fix is pretty simple: initialize the variable by assigning the variable a value before you use it.\n",
    "\n",
    "Another common mistake to watch out for that can be a little trickier to spot is forgetting to initialize variables with the correct value. If you use a variable earlier in your code and then reuse it later in a loop without first setting the value to something you want, your code may wind up doing something you didn't expect. Don't forget to initialize your variables before using them!"
   ]
  },
  {
   "cell_type": "code",
   "execution_count": 10,
   "metadata": {},
   "outputs": [
    {
     "name": "stdout",
     "output_type": "stream",
     "text": [
      "1\n",
      "2\n",
      "3\n",
      "4\n",
      "5\n"
     ]
    }
   ],
   "source": [
    "# Watch out for infininte loops\n",
    "# do this by remembering to 1. initialize your variable\n",
    "# and 2. check to see your loops wont run forever. \n",
    "def print_range(start, end):\n",
    "\t# Loop through the numbers from start to end\n",
    "\tn = start\n",
    "\twhile n <= end:\n",
    "\t\tprint(n)\n",
    "\t\tn+=1 #added incrementer to make sure while loop iterates \n",
    "\n",
    "print_range(1, 5)  # Should print 1 2 3 4 5 (each number on its own line) "
   ]
  },
  {
   "cell_type": "markdown",
   "metadata": {},
   "source": [
    "Infinite loops and Code Blocks\n",
    "\n",
    "Another easy mistake that can happen when using loops is introducing an infinite loop. An infinite loop means the code block in the loop will continue to execute and never stop. This can happen when the condition being evaluated in a while loop doesn't change. Pay close attention to your variables and what possible values they can take. Think about unexpected values, like zero.\n",
    "\n",
    "In the Coursera code blocks, you may see an error message that reads \"Evaluation took more than 5 seconds to complete.\" This means that the code encountered an infinite loop, and it timed out after 5 seconds. You should take a closer look at the code and variables to spot where the infinite loop is."
   ]
  },
  {
   "cell_type": "code",
   "execution_count": null,
   "metadata": {},
   "outputs": [],
   "source": [
    "\"\"\"A while loop executes the body of the loop while a \n",
    "specified condition remains True. They are commonly\n",
    " used when there's an unknown number of operations to be \n",
    " performed, and a condition needs to be checked at each iteration.\n",
    "\"\"\"\n",
    "while specified condition is True:\n",
    "    body of loop"
   ]
  },
  {
   "cell_type": "code",
   "execution_count": null,
   "metadata": {},
   "outputs": [],
   "source": [
    "multiplier = 1\n",
    "result = multiplier*5\n",
    "while result <= 50:\n",
    "  print(result)\n",
    "  multiplier += 1\n",
    "  result = multiplier*5\n",
    "print(\"Done\")\n",
    "\n",
    "# This while loop prints the multiples of 5 between 1 and 50. The\n",
    "# \"multiplier\" variable is initialized with the starting value of 1. \n",
    "# The \"result\" variable is initialized with the value of the \n",
    "# \"multiplier\" variable times 5. \n",
    " \n",
    "# The while loop specifies that the loop must iterate while it is True \n",
    "# that the \"result\" is less than or equal to 50. Within the while loop, \n",
    "# the code tells the Python interpreter to print the value of the \n",
    "# \"result\" variable. Then, the \"multiplier\" is incremented by 1 and the\n",
    "# \"result\" is assigned the new value of the \"multiplier\" times 5. \n",
    " \n",
    "# The end of the while loop is indicated by the indentation of the next \n",
    "# line of code moving one tab to the left. At this point, the Python\n",
    "# interpreter automatically loops back to the beginning of the while\n",
    "# loop to check the condition again with the new value of the \"result\"\n",
    "# variable. When the while loop condition becomes False (meaning\n",
    "# \"result\" is no longer less than or equal to 50), the interpreter exits\n",
    "# the loop and reads the next line of code outside of the loop. In this \n",
    "# case, that next line tells the interpreter to print the string \"Done\". \n",
    " \n",
    "# Click the \"Run\" button to check the result of this while loop."
   ]
  },
  {
   "cell_type": "markdown",
   "metadata": {},
   "source": [
    "Common Errors in while Loops\n",
    "\n",
    "If you get an error message on a loop or it appears to hang, your debugging checklist should include the following checks:\n",
    "\n",
    "Failure to initialize variables. Make sure all the variables used in the loop’s condition are initialized before the loop.\n",
    "\n",
    "Unintended infinite loops. Make sure that the body of the loop modifies the variables used in the condition, so that the loop will eventually end for all possible values of the variables. You can often prevent an infinite loop by using the break keyword or by adding end criteria to the condition part of the while loop.\n",
    "\n",
    " \n",
    "\n",
    "while Loop Terms\n",
    "\n",
    "while loop - Tells the computer to execute a set of instructions while a specified condition is True. In other words, while loops keep executing the same group of instructions until the condition becomes False.\n",
    "\n",
    "infinite loop - Missing a method for exiting the loop, causing the loop to run forever.\n",
    "\n",
    "break - A keyword that can be used to end a loop at a specific point. \n",
    "\n",
    " \n",
    "\n",
    "Math Concepts on the Practice Quiz\n",
    "\n",
    "The coding problems on the upcoming practice quiz will involve a few math concepts. Don’t worry if you are rusty on math. You will have plenty of support with these concepts on the quiz. The following is a quick overview of the math terms you will encounter on the quiz:  \n",
    "\n",
    "prime numbers - Integers that have only two factors, which are the number itself multiplied by 1. The lowest prime number is 2.\n",
    "\n",
    "prime factors - Prime numbers that are factors of an integer. For example, the prime numbers 2 and 5 are the prime factors of the number 10 (2x5=10). The prime factors of an integer will not produce a remainder when used to divide that integer. \n",
    "\n",
    "divisor - A number (denominator) that is used to divide another number (numerator). For example, if the number 10 is divided by 5, the number 5 is the divisor.\n",
    "\n",
    "sum of all divisors of a number - The result of adding all of the divisors of a number together.  \n",
    "\n",
    "multiplication table - An integer multiplied by a series of numbers and their results formatted as a table or a list. For example:\n",
    "\n",
    "                 4x1=4\n",
    "                 4x2=8\n",
    "                 4x3=12\n",
    "                 4x4=16\n",
    "                 4x5=20"
   ]
  },
  {
   "cell_type": "markdown",
   "metadata": {},
   "source": [
    "Coding skills\n",
    "Skill Group 1\n",
    "\n",
    "1. Initialize a variable\n",
    "\n",
    "2. Use a while loop that runs while a specific condition is true\n",
    "\n",
    "3. Ensure the while loop will not be an infinite loop\n",
    "\n",
    "4. Increment a value within a while loop"
   ]
  },
  {
   "cell_type": "code",
   "execution_count": null,
   "metadata": {},
   "outputs": [],
   "source": [
    "# This function counts the number of integer factors for a \n",
    "# \"given_number\" variable, passed through the function’s parameters.\n",
    "# The \"count\" return value includes the \"given_number\" itself as a \n",
    "# factor (n*1). \n",
    "def count_factors(given_number):\n",
    " \n",
    "  # To include the \"given_number\" variable as a \"factor\", initialize\n",
    "  # the \"factor\" variable with the value 1 (if the \"factor\" variable\n",
    "  # were to start at 2, the \"given_number\" itself would be excluded). \n",
    "  factor = 1\n",
    "  count = 1\n",
    " \n",
    "  # This \"if\" block will run if the \"given_number\" equals 0.\n",
    "  if given_number == 0:\n",
    "    # If True, the return value will be 0 factors. \n",
    "    return 0\n",
    " \n",
    "  # The while loop will run while the \"factor\" is still less than\n",
    "  # the \"given_number\" variable.\n",
    "  while factor < given_number:\n",
    "    # This \"if\" block checks if the \"given_number\" can be divided by\n",
    "    # the \"factor\" variable without leaving a remainder. The modulo\n",
    "    # operator % is used to test for a remainder.\n",
    "    if given_number % factor == 0:\n",
    "      # If True, then the \"factor\" variable is added to the count of\n",
    "      # the \"given_number\"’s integer factors.\n",
    "      count += 1\n",
    "    # When exiting the if block, increment the \"factor\" variable by 1\n",
    "    # to divide the \"given_number\" variable by a new \"factor\" value\n",
    "    # inside the while loop.\n",
    "    factor += 1\n",
    " \n",
    "  # When the interpreter exits either the while loop or the top if\n",
    "  # block, it will return the value of the \"count\" variable.\n",
    "  return count\n",
    " \n",
    "print(count_factors(0)) # Count value will be 0\n",
    "print(count_factors(3)) # Should count 2 factors (1x3)\n",
    "print(count_factors(10)) # Should count 4 factors (1x10, 2x5)\n",
    "print(count_factors(24)) # Should count 8 factors (1x24, 2x12, 3x8,\n",
    "# and 4x6). "
   ]
  },
  {
   "cell_type": "markdown",
   "metadata": {},
   "source": [
    "Skill Group 2\n",
    "\n",
    "1. Initialize variables to assign data types before they are used in a while loop \n",
    "\n",
    "2. Use the break keyword as an exit point for a while loop"
   ]
  },
  {
   "cell_type": "code",
   "execution_count": null,
   "metadata": {},
   "outputs": [],
   "source": [
    "# This function outputs an addition table. It is written to end after\n",
    "# printing 5 lines of the addition table, but it will break out of the\n",
    "# loop if the \"my_sum\" variable exceeds 20. \n",
    " \n",
    "# The function accepts a \"given_number\" variable through its \n",
    "# parameters.\n",
    "def addition_table(given_number):\n",
    " \n",
    "    # The \"iterated_number\" and \"my_sum\" variables are initialized with\n",
    "    # the value of 1. Although the \"my_sum\" variable does not need any\n",
    "    # specific initial value, it still must be assigned a data type\n",
    "    # before being used in the while loop. By initializing \"my_sum\"\n",
    "    # with any integer, the data type will be set to int.\n",
    "    iterated_number = 1\n",
    "    my_sum = 1\n",
    " \n",
    "    # The while loop will run while it is True that the   \n",
    "    # \"iterated_number\" is less than or equal to 5.\n",
    "    while iterated_number <= 5:\n",
    " \n",
    "        # The \"my_sum\" variable is assigned the value of the\n",
    "        # \"given_number\" plus the \"iterated_number\" variables.\n",
    "        my_sum = given_number + iterated_number\n",
    " \n",
    "        # Test to see if the \"my_sum\" variable is greater than 20.\n",
    "        if my_sum > 20:\n",
    "            # If True, then use the break keyword to exit the loop. \n",
    "            break\n",
    "        # If False, the Python interpreter will move to the next line \n",
    "        # in the while loop after the if-statement has ended.  \n",
    " \n",
    "        # The print function will output the \"given_number\" plus\n",
    "        # the \"iterated_number\" equals \"my_sum\".\n",
    "        print(str(given_number), \"+\", str(iterated_number), \"=\", str(my_sum))\n",
    " \n",
    "        # Increment the \"iterated_number\" before the while loop starts\n",
    "        # over again to print a new \"my_sum\" value.\n",
    "        iterated_number += 1\n",
    " \n",
    " \n",
    "addition_table(5)\n",
    "addition_table(17)\n",
    "addition_table(30)\n",
    "\n",
    "# Expected output:\n",
    "# 5 + 1 = 6\n",
    "# 5 + 2 = 7\n",
    "# 5 + 3 = 8\n",
    "# 5 + 4 = 9\n",
    "# 5 + 5 = 10\n",
    "# 17 + 1 = 18\n",
    "# 17 + 2 = 19\n",
    "# 17 + 3 = 20\n",
    "# None"
   ]
  },
  {
   "cell_type": "markdown",
   "metadata": {},
   "source": [
    "### For loops"
   ]
  },
  {
   "cell_type": "markdown",
   "metadata": {},
   "source": [
    "For Loops Recap\n",
    "\n",
    "For loops allow you to iterate over a sequence of values. Let's take the example from the beginning of the video:\n",
    "\n",
    "for x in range(5):\n",
    "\n",
    "  print(x)\n",
    "\n",
    "Similar to if statements and while loops, for loops begin with the keyword for with a colon at the end of the line. Just like in function definitions, while loops and if statements, the body of the for loop begins on the next line and is indented to the right. But what about the stuff in between the for keyword and the colon? In our example, we’re using the range() function to create a sequence of numbers that our for loop can iterate over. In this case, our variable x points to the current element in the sequence as the for loop iterates over the sequence of numbers. Keep in mind that in Python and many programming languages, a range of numbers will start at 0, and the list of numbers generated will be one less than the provided value. So range(5) will generate a sequence of numbers from 0 to 4, for a total of 5 numbers.\n",
    "\n",
    "Bringing this all together, the range(5) function will create a sequence of numbers from 0 to 4. Our for loop will iterate over this sequence of numbers, one at a time, making the numbers accessible via the variable x and the code within our loop body will execute for each iteration through the sequence. So for the first loop, x will contain 0, the next loop, 1, and so on until it reaches 4. Once the end of the sequence comes up, the loop will exit and the code will continue.\n",
    "\n",
    "The power of for loops comes from the fact that it can iterate over a sequence of any kind of data, not just a range of numbers. You can use for loops to iterate over a list of strings, such as usernames or lines in a file.\n",
    "\n",
    "Not sure whether to use a for loop or a while loop? Remember that a while loop is great for performing an action over and over until a condition has changed. A for loop works well when you want to iterate over a sequence of elements. "
   ]
  },
  {
   "cell_type": "markdown",
   "metadata": {},
   "source": [
    "A Closer Look at the Range() Function\n",
    "\n",
    "The in keyword, when used with the range() function, generates a sequence of integer numbers, which can be used with a for loop to control the start point, the end point, and the incremental values of the loop.  \n",
    "\n",
    "Syntax:"
   ]
  },
  {
   "cell_type": "code",
   "execution_count": null,
   "metadata": {},
   "outputs": [],
   "source": [
    "for n in range(x, y, z):\n",
    "    print(n)"
   ]
  },
  {
   "cell_type": "markdown",
   "metadata": {},
   "source": [
    "The range() function uses a set of indices that point to integer values, which start at the number 0. The numeric values 0, 1, 2, 3, 4 correlate to ordinal index positions 1st, 2nd, 3rd, 4th, 5th. So, when a range call to the 5th index position is made using range(5) the index is pointing to the numeric value of 4.\n",
    "\n",
    "Index Number\n",
    "\n",
    "1st index\n",
    "\n",
    "2nd index\n",
    "\n",
    "3rd index\n",
    "\n",
    "4th index\n",
    "\n",
    "5th index\n",
    "\n",
    "Value\n",
    "\n",
    "0\n",
    "\n",
    "1\n",
    "\n",
    "2\n",
    "\n",
    "3\n",
    "\n",
    "4\n",
    "\n",
    "The range() function can take up to three parameters:  range(start, stop, step) \n",
    "\n",
    "Start \n",
    "The first item in the range() function parameters is the starting position of the range. The default is the first index position, which points to the numeric value 0. This value is included in the range. \n",
    "\n",
    "Stop\n",
    "The second item in the range() function parameters is the ending position of the range. There is no default index position, so this index number must be given to the range() parameters. For example, the line for n in range(4) will loop 4 times with the n variable starting at 0 and looping 4 index positions: 0, 1, 2, 3. As you can see, range(4) (meaning index position 4) ends at the numeric value 3. In Python, this structure may be phrased as “the end-of-range value is excluded from the range.” In order to include the value 4 in  range(4), the syntax can be written as range(4+1) or range(5). Both of these ranges will produce the numeric values 0, 1, 2, 3, 4. \n",
    "\n",
    "Step\n",
    "The third item in the range() function parameters is the incremental step value. The default increment is +1. The default value can be overridden with any valid increment. However, note that the loop will still end at the end-of-range index position, regardless of the incremental value. For example, if you have a loop with the range: for n in range(1, 5, 6), the range will only produce the numeric value 1. This is because the incremental value of 6 exceeded the ending point of the range.\n",
    "\n",
    "\n",
    "Practice Exercise\n",
    "You can use the code block below to test the values of n with various range() parameters. A few suggestions to test are:\n",
    "\n",
    "range(stop)\n",
    "\n",
    "range(3) \n",
    "\n",
    "range(3+1) \n",
    "\n",
    "range(start, stop)\n",
    "\n",
    "range(2, 6)     \n",
    "\n",
    "range(5,10+1) \n",
    "\n",
    "range(start, stop, step)\n",
    "\n",
    "range(4, 15+1, 2)         \n",
    "\n",
    "range(2*2, 25, 3+2) \n",
    "\n",
    "range(10, 0, -2)  "
   ]
  },
  {
   "cell_type": "code",
   "execution_count": null,
   "metadata": {},
   "outputs": [],
   "source": [
    "for n in range(1, 5, 6):  \n",
    "    print(n)"
   ]
  },
  {
   "cell_type": "markdown",
   "metadata": {},
   "source": [
    "Examples of the range() function in code:"
   ]
  },
  {
   "cell_type": "code",
   "execution_count": null,
   "metadata": {},
   "outputs": [],
   "source": [
    "# This loop iterates on the value of the \"n\" variable in a range\n",
    "# of 0 to 10 (the value of the end-of-range index 11 is excluded).\n",
    "# The incremental value for the loop is 2. The print() function will \n",
    "# output the resulting value of \"n\" as the loop counts from 0 to 10 \n",
    "# (end-of-range index 11) in incremental steps of 2. This is one \n",
    "# method that can be used in Python to print a list of even numbers.\n",
    "\n",
    "\n",
    "for n in range(0,11,2):\n",
    "    print(n)\n",
    "\n",
    "\n",
    "# The loop should print 0, 2, 4, 6, 8, 10"
   ]
  },
  {
   "cell_type": "code",
   "execution_count": null,
   "metadata": {},
   "outputs": [],
   "source": [
    "# This loop iterates on the value of the \"number\" variable in a range\n",
    "# of 2 to 7+1 (the value of the end-of-range index 7 is excluded, so \n",
    "# +1 has been added to the parameter to include the numeric value 7 in \n",
    "# the range). The incremental value for the loop is the default of +1.\n",
    "# The print() function will output the resulting value of \"number\" \n",
    "# multiplied by 3.\n",
    "\n",
    "\n",
    "for number in range(2,7+1):\n",
    "    print(number*3)\n",
    "\n",
    "\n",
    "# The loop should print 6, 9, 12, 15, 18, 21"
   ]
  },
  {
   "cell_type": "code",
   "execution_count": null,
   "metadata": {},
   "outputs": [],
   "source": [
    "# This loop iterates on the value of the \"x\" variable in a range\n",
    "# of 2 to -1 (the end-of-range index -2 is excluded). The third \n",
    "# parameter is also a negative number, making it a decremental value\n",
    "# of -1. The print() function will output the resulting value of\n",
    "# \"x\" as it starts at 2 and counts down to -1 (index -2).\n",
    "\n",
    "\n",
    "for x in range(2, -2, -1):\n",
    "    print(x)\n",
    "\n",
    "\n",
    "# The loop should print 2, 1, 0, -1"
   ]
  },
  {
   "cell_type": "markdown",
   "metadata": {},
   "source": [
    "Key takeaways\n",
    "\n",
    "The roles of the range(start, stop, step) function parameters are:\n",
    "\n",
    "Start - Beginning of range\n",
    "\n",
    "value included in range\n",
    "\n",
    "default = 0\n",
    "\n",
    "Stop - End of range\n",
    "\n",
    "value excluded from range (to include, use stop+1)\n",
    "\n",
    "no default\n",
    "\n",
    "must provide the ending index number \n",
    "\n",
    "Step - Incremental value \n",
    "\n",
    "default = 1\n",
    "\n",
    "Resources for more information\n",
    "Python range() function\n",
    " - This site provides some helpful visualizations for the range index positions. It also offers multiple for x in range() examples and practice exercises. "
   ]
  },
  {
   "cell_type": "markdown",
   "metadata": {},
   "source": [
    "### Recursion"
   ]
  },
  {
   "cell_type": "code",
   "execution_count": null,
   "metadata": {},
   "outputs": [],
   "source": []
  },
  {
   "cell_type": "markdown",
   "metadata": {},
   "source": [
    "<p style=\"text-align:center\"><span style=\"color:#6C3483\"><span style=\"font-size:40px\">Week 4&nbsp;</span></p>\n",
    "\n"
   ]
  },
  {
   "cell_type": "markdown",
   "metadata": {},
   "source": [
    "<p style=\"text-align:center\"><span style=\"color:#95A5A6\"><span style=\"font-size:40px\">Week 5&nbsp;</span></p>\n",
    "\n"
   ]
  },
  {
   "cell_type": "markdown",
   "metadata": {},
   "source": [
    "<p style=\"text-align:center\"><span style=\"color:#F4D03F\"><span style=\"font-size:40px\">Week 6&nbsp;</span></p>\n",
    "\n"
   ]
  }
 ],
 "metadata": {
  "kernelspec": {
   "display_name": "Python 3",
   "language": "python",
   "name": "python3"
  },
  "language_info": {
   "codemirror_mode": {
    "name": "ipython",
    "version": 3
   },
   "file_extension": ".py",
   "mimetype": "text/x-python",
   "name": "python",
   "nbconvert_exporter": "python",
   "pygments_lexer": "ipython3",
   "version": "3.10.11"
  },
  "orig_nbformat": 4
 },
 "nbformat": 4,
 "nbformat_minor": 2
}
