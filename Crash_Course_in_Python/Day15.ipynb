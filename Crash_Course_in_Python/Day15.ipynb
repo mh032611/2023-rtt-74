{
 "cells": [
  {
   "cell_type": "code",
   "execution_count": 1,
   "metadata": {},
   "outputs": [],
   "source": [
    "import re"
   ]
  },
  {
   "cell_type": "code",
   "execution_count": null,
   "metadata": {},
   "outputs": [],
   "source": [
    "result = re.search(r'aza', 'plaza')\n",
    "print(result)\n",
    "\n",
    "result = re.search(r'aza', 'bazaar')\n",
    "print(result)\n",
    "\n",
    "result = re.search(r'aza', 'maze')\n",
    "print(result)"
   ]
  },
  {
   "cell_type": "code",
   "execution_count": null,
   "metadata": {},
   "outputs": [],
   "source": [
    "print(re.search(r'x', 'xenon'))\n",
    "print(re.search(r'p.ng', 'penguin'))\n",
    "print(re.search(r'p.ng', 'clapping'))\n",
    "print(re.search(r'p.ng', 'sponge'))\n",
    "print(re.search(r'p.ng', 'Pangaea', re.IGNORECASE))"
   ]
  },
  {
   "cell_type": "code",
   "execution_count": null,
   "metadata": {},
   "outputs": [],
   "source": [
    "print(re.search(r'[Pp]ython', 'Python'))\n",
    "print(re.search(r'[a-z]way', 'The end of the highway'))\n",
    "print(re.search(r'[a-z]way', 'what a way to go'))\n",
    "print(re.search('cloud[a-zA-Z0-9]', 'cloudy'))\n",
    "print(re.search('cloud[a-zA-Z0-9]', 'cloud9'))\n",
    "print(re.search(r'[^a-zA-Z]', 'This is a sentence with spaces.'))\n",
    "print(re.search(r'[^a-zA-Z ]', 'This is a sentence with spaces.'))\n",
    "print(re.search(r'cat|dog', 'I like cats.'))\n",
    "print(re.search(r'cat|dog', 'I like dogs.'))\n",
    "print(re.search(r'cat|dog', 'I like both dogs and cats.'))\n",
    "print(re.findall(r'cat|dog', 'I like both dogs and cats.'))"
   ]
  },
  {
   "cell_type": "code",
   "execution_count": null,
   "metadata": {},
   "outputs": [],
   "source": [
    "def check_punctuation (text):\n",
    "    '''\n",
    "    Fill in the code to check if the text passed contains \n",
    "    punctuation symbols: commas, periods, colons, semicolons, \n",
    "    question marks, and exclamation points\n",
    "\n",
    "    '''\n",
    "    result = re.search(r\"[,.:;?!]\", text)\n",
    "    return result != None\n",
    "\n",
    "print(check_punctuation(\"This is a sentence that ends with a period.\")) # True\n",
    "print(check_punctuation(\"This is a sentence fragment without a period\")) # False\n",
    "print(check_punctuation(\"Aren't regular expressions awesome?\")) # True\n",
    "print(check_punctuation(\"Wow! We're really picking up some steam now!\")) # True\n",
    "print(check_punctuation(\"End of the line\")) # False"
   ]
  },
  {
   "cell_type": "code",
   "execution_count": null,
   "metadata": {},
   "outputs": [],
   "source": [
    "print(re.search(r'Py.*n', 'Pygmalion'))\n",
    "print(re.search(r'Py.*n', 'Python Programing'))\n",
    "print(re.search(r'Py[a-z]*n', 'Python Programing'))\n",
    "print(re.search(r'Py[a-z]*n', 'Pyn'))\n",
    "print(re.search(r'o+l+', 'goldfish'))\n",
    "print(re.search(r'o+l+', 'woolly'))\n",
    "print(re.search(r'o+l+', 'boil'))\n",
    "print(re.search(r'p?each', 'to each thweir own'))\n",
    "print(re.search(r'p?each', 'I like peaches'))"
   ]
  },
  {
   "cell_type": "code",
   "execution_count": null,
   "metadata": {},
   "outputs": [],
   "source": [
    "def repeating_letter_a(text):\n",
    "\n",
    "    '''\n",
    "    The repeating_letter_a function checks if the text passed \n",
    "    includes the letter \"a\" (lowercase or uppercase) at \n",
    "    least twice. For example, repeating_letter_a(\"banana\") is \n",
    "    True, while repeating_letter_a(\"pineapple\") is False. Fill \n",
    "    in the code to make this work. \n",
    "    '''\n",
    "    result = re.search(r\"[aA].*[aA]\", text)\n",
    "    #result = re.search(r\"[a].*[a]\", text, re.I)  OPTION 2\n",
    "    return result != None\n",
    "\n",
    "print(repeating_letter_a(\"banana\")) # True\n",
    "print(repeating_letter_a(\"pineapple\")) # False\n",
    "print(repeating_letter_a(\"Animal Kingdom\")) # True\n",
    "print(repeating_letter_a(\"A is for apple\")) # True"
   ]
  },
  {
   "cell_type": "code",
   "execution_count": null,
   "metadata": {},
   "outputs": [],
   "source": [
    "print(re.search(r'.com', 'welcome'))\n",
    "print(re.search(r'\\.com', 'welcome'))\n",
    "print(re.search(r'\\.com', 'mydomain.com'))\n",
    "#\\n \\t \\w \\d(matching for digits) \\s(matching white space) \\b (word boundaries)\n",
    "print(re.search(r'\\w*', 'This is a example'))\n",
    "print(re.search(r'\\w*', 'And_this_is_another'))"
   ]
  },
  {
   "cell_type": "code",
   "execution_count": null,
   "metadata": {},
   "outputs": [],
   "source": [
    "def check_character_groups(text):\n",
    "    ''' \n",
    "    Fill in the code to check if the text passed has at least \n",
    "    2 groups of alphanumeric characters (including letters, \n",
    "    numbers, and underscores) separated by one or more whitespace \n",
    "    characters.\n",
    "    '''\n",
    "    #result = re.search(r\"\\w\\s.*\", text) OPTIONAL (check)\n",
    "    result = re.search(r\"\\d\", text)\n",
    "    return result != None\n",
    "\n",
    "print(check_character_groups(\"One\")) # False\n",
    "print(check_character_groups(\"123  Ready Set GO\")) # True\n",
    "print(check_character_groups(\"username user_01\")) # True\n",
    "print(check_character_groups(\"shopping_list: milk, bread, eggs.\")) # False"
   ]
  },
  {
   "cell_type": "code",
   "execution_count": null,
   "metadata": {},
   "outputs": [],
   "source": [
    "print(re.search(r'A.*a', 'Argentina'))\n",
    "print(re.search(r'A.*a', 'Azerbaijan'))\n",
    "print(re.search(r'^A.*a$', 'Azerbaijan'))\n",
    "print(re.search(r'^A.*a$', 'Australia'))\n",
    "\n",
    "pattern = r'^[a-zA-Z_][a-zA-Z0-9_]*$'\n",
    "print(re.search(pattern, '_this_is_a_valid_variable_name'))\n",
    "print(re.search(pattern, 'this is a valid variable name'))\n",
    "print(re.search(pattern, 'my_variable1'))\n",
    "print(re.search(pattern, '2my_variable1'))"
   ]
  },
  {
   "cell_type": "code",
   "execution_count": null,
   "metadata": {},
   "outputs": [],
   "source": [
    "def check_sentence(text):\n",
    "    '''\n",
    "    Fill in the code to check if the text passed looks like a \n",
    "    standard sentence, meaning that it starts with an uppercase \n",
    "    letter, followed by at least some lowercase letters or a space, \n",
    "    and ends with a period, question mark, or exclamation point. \n",
    "    '''\n",
    "    result = re.search(r\"^[A-Z][a-z ]+[.!?]$\", text)\n",
    "    return result != None\n",
    "\n",
    "print(check_sentence(\"Is this is a sentence?\")) # True\n",
    "print(check_sentence(\"is this is a sentence?\")) # False\n",
    "print(check_sentence(\"Hello\")) # False\n",
    "print(check_sentence(\"1-2-3-GO!\")) # False\n",
    "print(check_sentence(\"A star is born.\")) # True"
   ]
  },
  {
   "cell_type": "code",
   "execution_count": null,
   "metadata": {},
   "outputs": [],
   "source": []
  }
 ],
 "metadata": {
  "kernelspec": {
   "display_name": "Python 3",
   "language": "python",
   "name": "python3"
  },
  "language_info": {
   "codemirror_mode": {
    "name": "ipython",
    "version": 3
   },
   "file_extension": ".py",
   "mimetype": "text/x-python",
   "name": "python",
   "nbconvert_exporter": "python",
   "pygments_lexer": "ipython3",
   "version": "3.10.11"
  },
  "orig_nbformat": 4
 },
 "nbformat": 4,
 "nbformat_minor": 2
}
