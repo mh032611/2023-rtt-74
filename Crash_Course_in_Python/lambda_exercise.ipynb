{
 "cells": [
  {
   "cell_type": "code",
   "execution_count": null,
   "metadata": {},
   "outputs": [],
   "source": [
    "prog_lang = [('Python', 3.8),\n",
    "             ('Java', 13),\n",
    "             ('JavaScript', 2019),\n",
    "             ('Scala', 2.13)]\n",
    "\n",
    "print(prog_lang)"
   ]
  },
  {
   "cell_type": "code",
   "execution_count": null,
   "metadata": {},
   "outputs": [],
   "source": [
    "second_ele = lambda ele: ele[1]\n",
    "\n",
    "print(sorted(prog_lang, key=second_ele))"
   ]
  },
  {
   "cell_type": "code",
   "execution_count": null,
   "metadata": {},
   "outputs": [],
   "source": [
    "lan_len = lambda ele: len(ele[0])\n",
    "\n",
    "print(sorted(prog_lang, key=lan_len, reverse=True))"
   ]
  },
  {
   "cell_type": "code",
   "execution_count": null,
   "metadata": {},
   "outputs": [],
   "source": [
    "fil_a = list(filter(lambda ele: \"a\" in ele[0].lower(), prog_lang))\n",
    "\n",
    "print(fil_a)"
   ]
  },
  {
   "cell_type": "code",
   "execution_count": null,
   "metadata": {},
   "outputs": [],
   "source": [
    "fil_int = list(filter(lambda ele: type(ele[1]) is int, prog_lang))\n",
    "print(fil_int)"
   ]
  },
  {
   "cell_type": "code",
   "execution_count": null,
   "metadata": {},
   "outputs": [],
   "source": [
    "fil_java = list(filter(lambda ele: ele[0] == 'Java', prog_lang))\n",
    "print(fil_java)"
   ]
  }
 ],
 "metadata": {
  "kernelspec": {
   "display_name": "Python 3",
   "language": "python",
   "name": "python3"
  },
  "language_info": {
   "codemirror_mode": {
    "name": "ipython",
    "version": 3
   },
   "file_extension": ".py",
   "mimetype": "text/x-python",
   "name": "python",
   "nbconvert_exporter": "python",
   "pygments_lexer": "ipython3",
   "version": "3.10.11"
  },
  "orig_nbformat": 4
 },
 "nbformat": 4,
 "nbformat_minor": 2
}
