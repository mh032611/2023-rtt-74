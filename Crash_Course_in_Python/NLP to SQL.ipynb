{
 "cells": [
  {
   "cell_type": "markdown",
   "id": "2d5992bc",
   "metadata": {},
   "source": [
    "### NLP to SQL \n",
    "\n",
    "In this project, we'll develop a start-up that can take a non-technical manager's Natural Language question, such as \"What counties had the top sales?\" and convert that into a SQL query. We will then use that SQL to query the data (which in this example will come from a .csv file we read in with Pandas and set-up a temporary DB in RAM) and then report back the results!\n",
    "\n",
    "Dataset based on https://www.kaggle.com/datasets/kyanyoga/sample-sales-data\n",
    "\n",
    "1. Set up API key\n",
    "2. Read CSV file.\n",
    "3. Turned that into a in-memory SQL database.\n",
    "4. Create a table definition from the data frame.\n",
    "5. Prompt engineering \n",
    "6. Input from a non technical user.\n",
    "7. Combine them to get open AI prompt.\n",
    "8. Then pass in that prompt to the openai completion create with some usage of stop tokens.\n",
    "9. Handle that response to clean it up to get out the actual SQL query\n",
    "10. Execute this code, get the result back and report the results.\n",
    "\n"
   ]
  },
  {
   "cell_type": "markdown",
   "id": "dc77fd2b",
   "metadata": {},
   "source": [
    "### Set up the key, example of prompt and connection to OpenAi"
   ]
  },
  {
   "cell_type": "code",
   "execution_count": 64,
   "id": "05500801",
   "metadata": {},
   "outputs": [],
   "source": [
    "import os"
   ]
  },
  {
   "cell_type": "code",
   "execution_count": 65,
   "id": "7d60bf01",
   "metadata": {},
   "outputs": [],
   "source": [
    "import openai"
   ]
  },
  {
   "cell_type": "code",
   "execution_count": 66,
   "id": "f6cc91f1",
   "metadata": {},
   "outputs": [],
   "source": [
    "openai.api_key = os.getenv(\"OPENAI_API_KEY\")"
   ]
  },
  {
   "cell_type": "code",
   "execution_count": 67,
   "id": "c86cec93",
   "metadata": {},
   "outputs": [],
   "source": [
    "prompt = 'Give me two reasons to learn OpenAI API with Python'"
   ]
  },
  {
   "cell_type": "code",
   "execution_count": 68,
   "id": "bbed4a50",
   "metadata": {},
   "outputs": [],
   "source": [
    "response = openai.Completion.create(engine=\"text-davinci-003\",\n",
    "                                                prompt=prompt,\n",
    "                                                max_tokens=256,\n",
    "                                                temperature=0,\n",
    "                                                top_p=1.0,\n",
    "                                                frequency_penalty=0.0,\n",
    "                                                presence_penalty=0.0)"
   ]
  },
  {
   "cell_type": "code",
   "execution_count": 69,
   "id": "a6022b8a",
   "metadata": {},
   "outputs": [
    {
     "name": "stdout",
     "output_type": "stream",
     "text": [
      "\n",
      "\n",
      "1. OpenAI API with Python provides a powerful set of tools for developing and deploying AI applications. It allows developers to quickly and easily build complex AI models and deploy them in production.\n",
      "\n",
      "2. OpenAI API with Python is an open source library that provides a wide range of algorithms and tools for machine learning and deep learning. It is easy to use and provides a comprehensive set of features for building and deploying AI applications. Additionally, it is well-documented and supported by a large community of developers.\n"
     ]
    }
   ],
   "source": [
    "print(response['choices'][0]['text'])"
   ]
  },
  {
   "cell_type": "markdown",
   "id": "3f6c1882",
   "metadata": {},
   "source": [
    "### Read CSV file and Turned that into a in-memory SQL database"
   ]
  },
  {
   "cell_type": "code",
   "execution_count": 70,
   "id": "63d524cb",
   "metadata": {},
   "outputs": [],
   "source": [
    "import pandas as pd"
   ]
  },
  {
   "cell_type": "code",
   "execution_count": 71,
   "id": "a5fe9737",
   "metadata": {},
   "outputs": [],
   "source": [
    "df = pd.read_csv(\"/Users/iris/Downloads/sales_data_sample.csv\")"
   ]
  },
  {
   "cell_type": "code",
   "execution_count": 72,
   "id": "4f6e3fe5",
   "metadata": {},
   "outputs": [
    {
     "data": {
      "text/html": [
       "<div>\n",
       "<style scoped>\n",
       "    .dataframe tbody tr th:only-of-type {\n",
       "        vertical-align: middle;\n",
       "    }\n",
       "\n",
       "    .dataframe tbody tr th {\n",
       "        vertical-align: top;\n",
       "    }\n",
       "\n",
       "    .dataframe thead th {\n",
       "        text-align: right;\n",
       "    }\n",
       "</style>\n",
       "<table border=\"1\" class=\"dataframe\">\n",
       "  <thead>\n",
       "    <tr style=\"text-align: right;\">\n",
       "      <th></th>\n",
       "      <th>ORDERNUMBER</th>\n",
       "      <th>QUANTITYORDERED</th>\n",
       "      <th>PRICEEACH</th>\n",
       "      <th>ORDERLINENUMBER</th>\n",
       "      <th>SALES</th>\n",
       "      <th>ORDERDATE</th>\n",
       "      <th>STATUS</th>\n",
       "      <th>QTR_ID</th>\n",
       "      <th>MONTH_ID</th>\n",
       "      <th>YEAR_ID</th>\n",
       "      <th>...</th>\n",
       "      <th>ADDRESSLINE1</th>\n",
       "      <th>ADDRESSLINE2</th>\n",
       "      <th>CITY</th>\n",
       "      <th>STATE</th>\n",
       "      <th>POSTALCODE</th>\n",
       "      <th>COUNTRY</th>\n",
       "      <th>TERRITORY</th>\n",
       "      <th>CONTACTLASTNAME</th>\n",
       "      <th>CONTACTFIRSTNAME</th>\n",
       "      <th>DEALSIZE</th>\n",
       "    </tr>\n",
       "  </thead>\n",
       "  <tbody>\n",
       "    <tr>\n",
       "      <th>0</th>\n",
       "      <td>10107</td>\n",
       "      <td>30</td>\n",
       "      <td>95.70</td>\n",
       "      <td>2</td>\n",
       "      <td>2871.00</td>\n",
       "      <td>2/24/2003 0:00</td>\n",
       "      <td>Shipped</td>\n",
       "      <td>1</td>\n",
       "      <td>2</td>\n",
       "      <td>2003</td>\n",
       "      <td>...</td>\n",
       "      <td>897 Long Airport Avenue</td>\n",
       "      <td>NaN</td>\n",
       "      <td>NYC</td>\n",
       "      <td>NY</td>\n",
       "      <td>10022</td>\n",
       "      <td>USA</td>\n",
       "      <td>NaN</td>\n",
       "      <td>Yu</td>\n",
       "      <td>Kwai</td>\n",
       "      <td>Small</td>\n",
       "    </tr>\n",
       "    <tr>\n",
       "      <th>1</th>\n",
       "      <td>10121</td>\n",
       "      <td>34</td>\n",
       "      <td>81.35</td>\n",
       "      <td>5</td>\n",
       "      <td>2765.90</td>\n",
       "      <td>5/7/2003 0:00</td>\n",
       "      <td>Shipped</td>\n",
       "      <td>2</td>\n",
       "      <td>5</td>\n",
       "      <td>2003</td>\n",
       "      <td>...</td>\n",
       "      <td>59 rue de l'Abbaye</td>\n",
       "      <td>NaN</td>\n",
       "      <td>Reims</td>\n",
       "      <td>NaN</td>\n",
       "      <td>51100</td>\n",
       "      <td>France</td>\n",
       "      <td>EMEA</td>\n",
       "      <td>Henriot</td>\n",
       "      <td>Paul</td>\n",
       "      <td>Small</td>\n",
       "    </tr>\n",
       "    <tr>\n",
       "      <th>2</th>\n",
       "      <td>10134</td>\n",
       "      <td>41</td>\n",
       "      <td>94.74</td>\n",
       "      <td>2</td>\n",
       "      <td>3884.34</td>\n",
       "      <td>7/1/2003 0:00</td>\n",
       "      <td>Shipped</td>\n",
       "      <td>3</td>\n",
       "      <td>7</td>\n",
       "      <td>2003</td>\n",
       "      <td>...</td>\n",
       "      <td>27 rue du Colonel Pierre Avia</td>\n",
       "      <td>NaN</td>\n",
       "      <td>Paris</td>\n",
       "      <td>NaN</td>\n",
       "      <td>75508</td>\n",
       "      <td>France</td>\n",
       "      <td>EMEA</td>\n",
       "      <td>Da Cunha</td>\n",
       "      <td>Daniel</td>\n",
       "      <td>Medium</td>\n",
       "    </tr>\n",
       "    <tr>\n",
       "      <th>3</th>\n",
       "      <td>10145</td>\n",
       "      <td>45</td>\n",
       "      <td>83.26</td>\n",
       "      <td>6</td>\n",
       "      <td>3746.70</td>\n",
       "      <td>8/25/2003 0:00</td>\n",
       "      <td>Shipped</td>\n",
       "      <td>3</td>\n",
       "      <td>8</td>\n",
       "      <td>2003</td>\n",
       "      <td>...</td>\n",
       "      <td>78934 Hillside Dr.</td>\n",
       "      <td>NaN</td>\n",
       "      <td>Pasadena</td>\n",
       "      <td>CA</td>\n",
       "      <td>90003</td>\n",
       "      <td>USA</td>\n",
       "      <td>NaN</td>\n",
       "      <td>Young</td>\n",
       "      <td>Julie</td>\n",
       "      <td>Medium</td>\n",
       "    </tr>\n",
       "    <tr>\n",
       "      <th>4</th>\n",
       "      <td>10159</td>\n",
       "      <td>49</td>\n",
       "      <td>100.00</td>\n",
       "      <td>14</td>\n",
       "      <td>5205.27</td>\n",
       "      <td>10/10/2003 0:00</td>\n",
       "      <td>Shipped</td>\n",
       "      <td>4</td>\n",
       "      <td>10</td>\n",
       "      <td>2003</td>\n",
       "      <td>...</td>\n",
       "      <td>7734 Strong St.</td>\n",
       "      <td>NaN</td>\n",
       "      <td>San Francisco</td>\n",
       "      <td>CA</td>\n",
       "      <td>NaN</td>\n",
       "      <td>USA</td>\n",
       "      <td>NaN</td>\n",
       "      <td>Brown</td>\n",
       "      <td>Julie</td>\n",
       "      <td>Medium</td>\n",
       "    </tr>\n",
       "  </tbody>\n",
       "</table>\n",
       "<p>5 rows × 25 columns</p>\n",
       "</div>"
      ],
      "text/plain": [
       "   ORDERNUMBER  QUANTITYORDERED  PRICEEACH  ORDERLINENUMBER    SALES  \\\n",
       "0        10107               30      95.70                2  2871.00   \n",
       "1        10121               34      81.35                5  2765.90   \n",
       "2        10134               41      94.74                2  3884.34   \n",
       "3        10145               45      83.26                6  3746.70   \n",
       "4        10159               49     100.00               14  5205.27   \n",
       "\n",
       "         ORDERDATE   STATUS  QTR_ID  MONTH_ID  YEAR_ID  ...  \\\n",
       "0   2/24/2003 0:00  Shipped       1         2     2003  ...   \n",
       "1    5/7/2003 0:00  Shipped       2         5     2003  ...   \n",
       "2    7/1/2003 0:00  Shipped       3         7     2003  ...   \n",
       "3   8/25/2003 0:00  Shipped       3         8     2003  ...   \n",
       "4  10/10/2003 0:00  Shipped       4        10     2003  ...   \n",
       "\n",
       "                    ADDRESSLINE1  ADDRESSLINE2           CITY STATE  \\\n",
       "0        897 Long Airport Avenue           NaN            NYC    NY   \n",
       "1             59 rue de l'Abbaye           NaN          Reims   NaN   \n",
       "2  27 rue du Colonel Pierre Avia           NaN          Paris   NaN   \n",
       "3             78934 Hillside Dr.           NaN       Pasadena    CA   \n",
       "4                7734 Strong St.           NaN  San Francisco    CA   \n",
       "\n",
       "  POSTALCODE COUNTRY TERRITORY CONTACTLASTNAME CONTACTFIRSTNAME DEALSIZE  \n",
       "0      10022     USA       NaN              Yu             Kwai    Small  \n",
       "1      51100  France      EMEA         Henriot             Paul    Small  \n",
       "2      75508  France      EMEA        Da Cunha           Daniel   Medium  \n",
       "3      90003     USA       NaN           Young            Julie   Medium  \n",
       "4        NaN     USA       NaN           Brown            Julie   Medium  \n",
       "\n",
       "[5 rows x 25 columns]"
      ]
     },
     "execution_count": 72,
     "metadata": {},
     "output_type": "execute_result"
    }
   ],
   "source": [
    "df.head()"
   ]
  },
  {
   "cell_type": "code",
   "execution_count": 73,
   "id": "d9af5db4",
   "metadata": {},
   "outputs": [],
   "source": [
    "from sqlalchemy import create_engine\n",
    "from sqlalchemy import text"
   ]
  },
  {
   "cell_type": "code",
   "execution_count": 74,
   "id": "69a1e4f3",
   "metadata": {},
   "outputs": [],
   "source": [
    "temp_db = create_engine('sqlite:///:memory:', echo=True)"
   ]
  },
  {
   "cell_type": "code",
   "execution_count": 75,
   "id": "14f26753",
   "metadata": {},
   "outputs": [
    {
     "name": "stdout",
     "output_type": "stream",
     "text": [
      "2023-04-28 10:07:14,890 INFO sqlalchemy.engine.Engine PRAGMA main.table_info(\"Sales\")\n",
      "2023-04-28 10:07:14,891 INFO sqlalchemy.engine.Engine [raw sql] ()\n",
      "2023-04-28 10:07:14,892 INFO sqlalchemy.engine.Engine PRAGMA temp.table_info(\"Sales\")\n",
      "2023-04-28 10:07:14,893 INFO sqlalchemy.engine.Engine [raw sql] ()\n",
      "2023-04-28 10:07:14,895 INFO sqlalchemy.engine.Engine BEGIN (implicit)\n",
      "2023-04-28 10:07:14,897 INFO sqlalchemy.engine.Engine \n",
      "CREATE TABLE \"Sales\" (\n",
      "\t\"index\" BIGINT, \n",
      "\t\"ORDERNUMBER\" BIGINT, \n",
      "\t\"QUANTITYORDERED\" BIGINT, \n",
      "\t\"PRICEEACH\" FLOAT, \n",
      "\t\"ORDERLINENUMBER\" BIGINT, \n",
      "\t\"SALES\" FLOAT, \n",
      "\t\"ORDERDATE\" TEXT, \n",
      "\t\"STATUS\" TEXT, \n",
      "\t\"QTR_ID\" BIGINT, \n",
      "\t\"MONTH_ID\" BIGINT, \n",
      "\t\"YEAR_ID\" BIGINT, \n",
      "\t\"PRODUCTLINE\" TEXT, \n",
      "\t\"MSRP\" BIGINT, \n",
      "\t\"PRODUCTCODE\" TEXT, \n",
      "\t\"CUSTOMERNAME\" TEXT, \n",
      "\t\"PHONE\" TEXT, \n",
      "\t\"ADDRESSLINE1\" TEXT, \n",
      "\t\"ADDRESSLINE2\" TEXT, \n",
      "\t\"CITY\" TEXT, \n",
      "\t\"STATE\" TEXT, \n",
      "\t\"POSTALCODE\" TEXT, \n",
      "\t\"COUNTRY\" TEXT, \n",
      "\t\"TERRITORY\" TEXT, \n",
      "\t\"CONTACTLASTNAME\" TEXT, \n",
      "\t\"CONTACTFIRSTNAME\" TEXT, \n",
      "\t\"DEALSIZE\" TEXT\n",
      ")\n",
      "\n",
      "\n",
      "2023-04-28 10:07:14,897 INFO sqlalchemy.engine.Engine [no key 0.00071s] ()\n",
      "2023-04-28 10:07:14,898 INFO sqlalchemy.engine.Engine CREATE INDEX \"ix_Sales_index\" ON \"Sales\" (\"index\")\n",
      "2023-04-28 10:07:14,899 INFO sqlalchemy.engine.Engine [no key 0.00073s] ()\n",
      "2023-04-28 10:07:14,900 INFO sqlalchemy.engine.Engine COMMIT\n",
      "2023-04-28 10:07:14,907 INFO sqlalchemy.engine.Engine BEGIN (implicit)\n",
      "2023-04-28 10:07:14,946 INFO sqlalchemy.engine.Engine INSERT INTO \"Sales\" (\"index\", \"ORDERNUMBER\", \"QUANTITYORDERED\", \"PRICEEACH\", \"ORDERLINENUMBER\", \"SALES\", \"ORDERDATE\", \"STATUS\", \"QTR_ID\", \"MONTH_ID\", \"YEAR_ID\", \"PRODUCTLINE\", \"MSRP\", \"PRODUCTCODE\", \"CUSTOMERNAME\", \"PHONE\", \"ADDRESSLINE1\", \"ADDRESSLINE2\", \"CITY\", \"STATE\", \"POSTALCODE\", \"COUNTRY\", \"TERRITORY\", \"CONTACTLASTNAME\", \"CONTACTFIRSTNAME\", \"DEALSIZE\") VALUES (?, ?, ?, ?, ?, ?, ?, ?, ?, ?, ?, ?, ?, ?, ?, ?, ?, ?, ?, ?, ?, ?, ?, ?, ?, ?)\n",
      "2023-04-28 10:07:14,947 INFO sqlalchemy.engine.Engine [generated in 0.02865s] ((0, 10107, 30, 95.7, 2, 2871.0, '2/24/2003 0:00', 'Shipped', 1, 2, 2003, 'Motorcycles', 95, 'S10_1678', 'Land of Toys Inc.', '2125557818', '897 Long Airport Avenue', None, 'NYC', 'NY', '10022', 'USA', None, 'Yu', 'Kwai', 'Small'), (1, 10121, 34, 81.35, 5, 2765.9, '5/7/2003 0:00', 'Shipped', 2, 5, 2003, 'Motorcycles', 95, 'S10_1678', 'Reims Collectables', '26.47.1555', \"59 rue de l'Abbaye\", None, 'Reims', None, '51100', 'France', 'EMEA', 'Henriot', 'Paul', 'Small'), (2, 10134, 41, 94.74, 2, 3884.34, '7/1/2003 0:00', 'Shipped', 3, 7, 2003, 'Motorcycles', 95, 'S10_1678', 'Lyon Souveniers', '+33 1 46 62 7555', '27 rue du Colonel Pierre Avia', None, 'Paris', None, '75508', 'France', 'EMEA', 'Da Cunha', 'Daniel', 'Medium'), (3, 10145, 45, 83.26, 6, 3746.7, '8/25/2003 0:00', 'Shipped', 3, 8, 2003, 'Motorcycles', 95, 'S10_1678', 'Toys4GrownUps.com', '6265557265', '78934 Hillside Dr.', None, 'Pasadena', 'CA', '90003', 'USA', None, 'Young', 'Julie', 'Medium'), (4, 10159, 49, 100.0, 14, 5205.27, '10/10/2003 0:00', 'Shipped', 4, 10, 2003, 'Motorcycles', 95, 'S10_1678', 'Corporate Gift Ideas Co.', '6505551386', '7734 Strong St.', None, 'San Francisco', 'CA', None, 'USA', None, 'Brown', 'Julie', 'Medium'), (5, 10168, 36, 96.66, 1, 3479.76, '10/28/2003 0:00', 'Shipped', 4, 10, 2003, 'Motorcycles', 95, 'S10_1678', 'Technics Stores Inc.', '6505556809', '9408 Furth Circle', None, 'Burlingame', 'CA', '94217', 'USA', None, 'Hirano', 'Juri', 'Medium'), (6, 10180, 29, 86.13, 9, 2497.77, '11/11/2003 0:00', 'Shipped', 4, 11, 2003, 'Motorcycles', 95, 'S10_1678', 'Daedalus Designs Imports', '20.16.1555', '184, chausse de Tournai', None, 'Lille', None, '59000', 'France', 'EMEA', 'Rance', 'Martine', 'Small'), (7, 10188, 48, 100.0, 1, 5512.32, '11/18/2003 0:00', 'Shipped', 4, 11, 2003, 'Motorcycles', 95, 'S10_1678', 'Herkku Gifts', '+47 2267 3215', 'Drammen 121, PR 744 Sentrum', None, 'Bergen', None, 'N 5804', 'Norway', 'EMEA', 'Oeztan', 'Veysel', 'Medium')  ... displaying 10 of 2823 total bound parameter sets ...  (2821, 10397, 34, 62.24, 1, 2116.16, '3/28/2005 0:00', 'Shipped', 1, 3, 2005, 'Ships', 54, 'S72_3212', 'Alpha Cognac', '61.77.6555', '1 rue Alsace-Lorraine', None, 'Toulouse', None, '31000', 'France', 'EMEA', 'Roulet', 'Annette', 'Small'), (2822, 10414, 47, 65.52, 9, 3079.44, '5/6/2005 0:00', 'On Hold', 2, 5, 2005, 'Ships', 54, 'S72_3212', 'Gifts4AllAges.com', '6175559555', '8616 Spinnaker Dr.', None, 'Boston', 'MA', '51003', 'USA', None, 'Yoshido', 'Juri', 'Medium'))\n",
      "2023-04-28 10:07:14,963 INFO sqlalchemy.engine.Engine COMMIT\n",
      "2023-04-28 10:07:14,964 INFO sqlalchemy.engine.Engine SELECT name FROM sqlite_master WHERE type='table' ORDER BY name\n",
      "2023-04-28 10:07:14,964 INFO sqlalchemy.engine.Engine [raw sql] ()\n"
     ]
    }
   ],
   "source": [
    "data = df.to_sql(name='Sales',con=temp_db)\n"
   ]
  },
  {
   "cell_type": "code",
   "execution_count": 76,
   "id": "ef3939ef",
   "metadata": {},
   "outputs": [
    {
     "name": "stdout",
     "output_type": "stream",
     "text": [
      "2023-04-28 10:07:21,724 INFO sqlalchemy.engine.Engine Select ORDERNUMBER, SALES from Sales ORDER BY SALES DESC LIMIT 1\n",
      "2023-04-28 10:07:21,726 INFO sqlalchemy.engine.Engine [generated in 0.00200s] ()\n"
     ]
    }
   ],
   "source": [
    "with temp_db.connect() as conn:\n",
    "    result = conn.execute(text(\"Select ORDERNUMBER, SALES from Sales ORDER BY SALES DESC LIMIT 1\"))"
   ]
  },
  {
   "cell_type": "markdown",
   "id": "7955cf68",
   "metadata": {},
   "source": [
    "### Create a prompt"
   ]
  },
  {
   "cell_type": "code",
   "execution_count": 97,
   "id": "dd76b100",
   "metadata": {},
   "outputs": [],
   "source": [
    "openai.api_key = os.getenv(\"OPENAI_API_KEY\")"
   ]
  },
  {
   "cell_type": "code",
   "execution_count": 78,
   "id": "bdb290f6",
   "metadata": {},
   "outputs": [],
   "source": [
    "### Postgres SQL tables, with their properties:\n",
    "#\n",
    "# Employee(id, name, department_id)\n",
    "# Department(id, name, address)\n",
    "# Salary_Payments(id, employee_id, amount, date)\n",
    "#\n",
    "### A query to list the names of the departments which employed more than 10 employees in the last 3 months\n",
    "# SELECT"
   ]
  },
  {
   "cell_type": "code",
   "execution_count": 79,
   "id": "6de2c2fa",
   "metadata": {},
   "outputs": [],
   "source": [
    "def create_table_definition_prompt(df):\n",
    "    \"\"\"\n",
    "    This function returns a prompt that informs GPT that we want to work with SQL Tables\n",
    "    \"\"\"\n",
    "\n",
    "    prompt = '''### sqlite SQL table, with its properties:\n",
    "#\n",
    "# Sales({})\n",
    "#\n",
    "'''.format(\",\".join(str(x) for x in df.columns))\n",
    "    \n",
    "    return prompt"
   ]
  },
  {
   "cell_type": "code",
   "execution_count": 80,
   "id": "b93fe270",
   "metadata": {},
   "outputs": [
    {
     "name": "stdout",
     "output_type": "stream",
     "text": [
      "### sqlite SQL table, with its properties:\n",
      "#\n",
      "# Sales(ORDERNUMBER,QUANTITYORDERED,PRICEEACH,ORDERLINENUMBER,SALES,ORDERDATE,STATUS,QTR_ID,MONTH_ID,YEAR_ID,PRODUCTLINE,MSRP,PRODUCTCODE,CUSTOMERNAME,PHONE,ADDRESSLINE1,ADDRESSLINE2,CITY,STATE,POSTALCODE,COUNTRY,TERRITORY,CONTACTLASTNAME,CONTACTFIRSTNAME,DEALSIZE)\n",
      "#\n",
      "\n"
     ]
    }
   ],
   "source": [
    "print(create_table_definition_prompt(df))"
   ]
  },
  {
   "cell_type": "code",
   "execution_count": 81,
   "id": "47083876",
   "metadata": {},
   "outputs": [],
   "source": [
    "def prompt_input():\n",
    "    nlp_text = input(\"Enter information you want to obtain: \")\n",
    "    return nlp_text"
   ]
  },
  {
   "cell_type": "code",
   "execution_count": 93,
   "id": "5b77b05d",
   "metadata": {},
   "outputs": [
    {
     "name": "stdout",
     "output_type": "stream",
     "text": [
      "Enter information you want to obtain: Can you provide me with the total sales amount for each city?\n"
     ]
    }
   ],
   "source": [
    "nlp_text = prompt_input()"
   ]
  },
  {
   "cell_type": "code",
   "execution_count": 94,
   "id": "cd7e2e42",
   "metadata": {},
   "outputs": [],
   "source": [
    "def combine_prompts(df, query_prompt):\n",
    "    definition = create_table_definition_prompt(df)\n",
    "    query_init_string = f\"### A query to answer: {query_prompt}\\nSELECT\"\n",
    "    return definition+query_init_string"
   ]
  },
  {
   "cell_type": "code",
   "execution_count": 95,
   "id": "7561500f",
   "metadata": {},
   "outputs": [
    {
     "data": {
      "text/plain": [
       "'### sqlite SQL table, with its properties:\\n#\\n# Sales(ORDERNUMBER,QUANTITYORDERED,PRICEEACH,ORDERLINENUMBER,SALES,ORDERDATE,STATUS,QTR_ID,MONTH_ID,YEAR_ID,PRODUCTLINE,MSRP,PRODUCTCODE,CUSTOMERNAME,PHONE,ADDRESSLINE1,ADDRESSLINE2,CITY,STATE,POSTALCODE,COUNTRY,TERRITORY,CONTACTLASTNAME,CONTACTFIRSTNAME,DEALSIZE)\\n#\\n### A query to answer: Can you provide me with the total sales amount for each city?\\nSELECT'"
      ]
     },
     "execution_count": 95,
     "metadata": {},
     "output_type": "execute_result"
    }
   ],
   "source": [
    "combine_prompts(df, nlp_text)"
   ]
  },
  {
   "cell_type": "markdown",
   "id": "d1e4dd6e",
   "metadata": {},
   "source": [
    "### OpenAI call"
   ]
  },
  {
   "cell_type": "code",
   "execution_count": 98,
   "id": "6d95621d",
   "metadata": {},
   "outputs": [],
   "source": [
    "response = openai.Completion.create(\n",
    "        model = 'text-davinci-003',\n",
    "        prompt = combine_prompts(df, nlp_text),\n",
    "        temperature = 0,\n",
    "        max_tokens = 150,\n",
    "        top_p = 1.0,\n",
    "        frequency_penalty = 0,\n",
    "        presence_penalty = 0,\n",
    "        stop = ['#', ';']\n",
    ")"
   ]
  },
  {
   "cell_type": "code",
   "execution_count": 99,
   "id": "d6752c02",
   "metadata": {},
   "outputs": [
    {
     "data": {
      "text/plain": [
       "' City, SUM(Sales) AS Total_Sales\\nFROM Sales\\nGROUP BY City'"
      ]
     },
     "execution_count": 99,
     "metadata": {},
     "output_type": "execute_result"
    }
   ],
   "source": [
    "response['choices'][0]['text']\n"
   ]
  },
  {
   "cell_type": "code",
   "execution_count": 100,
   "id": "618026fc",
   "metadata": {},
   "outputs": [],
   "source": [
    "def handle_response(response):\n",
    "    query = response['choices'][0]['text']\n",
    "    if query.startswith(' '):\n",
    "        query = 'SELECT' + query\n",
    "    return query    "
   ]
  },
  {
   "cell_type": "code",
   "execution_count": 101,
   "id": "0fd0dbe3",
   "metadata": {},
   "outputs": [
    {
     "data": {
      "text/plain": [
       "'SELECT City, SUM(Sales) AS Total_Sales\\nFROM Sales\\nGROUP BY City'"
      ]
     },
     "execution_count": 101,
     "metadata": {},
     "output_type": "execute_result"
    }
   ],
   "source": [
    "handle_response(response)"
   ]
  },
  {
   "cell_type": "code",
   "execution_count": 102,
   "id": "7cafa52d",
   "metadata": {},
   "outputs": [
    {
     "name": "stdout",
     "output_type": "stream",
     "text": [
      "2023-04-28 10:36:20,792 INFO sqlalchemy.engine.Engine SELECT City, SUM(Sales) AS Total_Sales\n",
      "FROM Sales\n",
      "GROUP BY City\n",
      "2023-04-28 10:36:20,797 INFO sqlalchemy.engine.Engine [generated in 0.00535s] ()\n"
     ]
    }
   ],
   "source": [
    "with temp_db.connect() as conn:\n",
    "    result = conn.execute(text(handle_response(response)))"
   ]
  },
  {
   "cell_type": "code",
   "execution_count": 90,
   "id": "6b414c17",
   "metadata": {},
   "outputs": [
    {
     "data": {
      "text/plain": [
       "[('Aaarhus', 100595.54999999999),\n",
       " ('Allentown', 122138.14000000001),\n",
       " ('Barcelona', 78411.86000000002),\n",
       " ('Bergamo', 137955.72000000003),\n",
       " ('Bergen', 111640.28),\n",
       " ('Boras', 134259.33000000002),\n",
       " ('Boston', 154069.65999999997),\n",
       " ('Brickhaven', 165255.20000000004),\n",
       " ('Bridgewater', 101894.79000000001),\n",
       " ('Brisbane', 50218.51000000001),\n",
       " ('Bruxelles', 74972.52),\n",
       " ('Burbank', 46084.63999999999),\n",
       " ('Burlingame', 120783.07),\n",
       " ('Cambridge', 139243.99999999994),\n",
       " ('Charleroi', 33440.1),\n",
       " ('Chatswood', 151570.98000000004),\n",
       " ('Cowes', 78240.83999999998),\n",
       " ('Dublin', 57756.43),\n",
       " ('Espoo', 113961.14999999997),\n",
       " ('Frankfurt', 85171.58999999998),\n",
       " ('Gensve', 117713.55999999998),\n",
       " ('Glen Waverly', 64591.46000000001),\n",
       " ('Glendale', 66423.77),\n",
       " ('Graz', 52263.899999999994),\n",
       " ('Helsinki', 111250.37999999996),\n",
       " ('Kobenhavn', 145041.6),\n",
       " ('Koln', 100306.58),\n",
       " ('Las Vegas', 82751.08000000002),\n",
       " ('Lille', 69052.41),\n",
       " ('Liverpool', 118008.26999999999),\n",
       " ('London', 124823.54),\n",
       " ('Los Angeles', 48048.46),\n",
       " ('Lule', 75754.88),\n",
       " ('Lyon', 142874.25000000003),\n",
       " ('Madrid', 1082551.4400000002),\n",
       " ('Makati City', 94015.73),\n",
       " ('Manchester', 157807.80999999997),\n",
       " ('Marseille', 74936.14),\n",
       " ('Melbourne', 200995.40999999997),\n",
       " ('Minato-ku', 120562.73999999996),\n",
       " ('Montreal', 74204.79),\n",
       " ('Munich', 34993.92),\n",
       " ('NYC', 560787.7699999998),\n",
       " ('Nantes', 204304.86),\n",
       " ('Nashua', 131685.30000000002),\n",
       " ('New Bedford', 207874.86),\n",
       " ('New Haven', 79472.07),\n",
       " ('Newark', 83228.19),\n",
       " ('North Sydney', 153996.13000000003),\n",
       " ('Osaka', 67605.07),\n",
       " ('Oslo', 79224.23),\n",
       " ('Oulu', 104370.38),\n",
       " ('Paris', 268944.68),\n",
       " ('Pasadena', 104561.95999999998),\n",
       " ('Philadelphia', 151189.12999999998),\n",
       " ('Reggio Emilia', 142601.33000000002),\n",
       " ('Reims', 135042.94),\n",
       " ('Salzburg', 149798.63),\n",
       " ('San Diego', 87489.22999999998),\n",
       " ('San Francisco', 224358.68000000002),\n",
       " ('San Jose', 160010.26999999996),\n",
       " ('San Rafael', 654858.06),\n",
       " ('Sevilla', 54723.62),\n",
       " ('Singapore', 288488.41000000003),\n",
       " ('South Brisbane', 59469.11999999999),\n",
       " ('Stavern', 116599.19),\n",
       " ('Strasbourg', 80438.48),\n",
       " ('Torino', 94117.26000000002),\n",
       " ('Toulouse', 70488.44),\n",
       " ('Tsawassen', 74634.84999999999),\n",
       " ('Vancouver', 75238.92),\n",
       " ('Versailles', 64834.32000000001),\n",
       " ('White Plains', 85555.98999999998)]"
      ]
     },
     "execution_count": 90,
     "metadata": {},
     "output_type": "execute_result"
    }
   ],
   "source": [
    "result.all()"
   ]
  },
  {
   "cell_type": "markdown",
   "id": "27f614f6",
   "metadata": {},
   "source": [
    "### Production code"
   ]
  },
  {
   "cell_type": "raw",
   "id": "062b212a",
   "metadata": {},
   "source": [
    "import os\n",
    "import logging\n",
    "\n",
    "import pandas as pd\n",
    "import openai\n",
    "\n",
    "import db_utils\n",
    "import openai_utils\n",
    "\n",
    "logging.basicConfig(format='%(asctime)s - %(message)s', level=logging.INFO)\n",
    "openai.api_key = os.environ[\"OPENAI_API_KEY\"]\n",
    "\n",
    "if __name__ == \"__main__\":\n",
    "    logging.info(\"Loading data...\")\n",
    "    df = pd.read_csv(\"data/sales_data_sample.csv\")\n",
    "    logging.info(f\"Data Format: {df.shape}\")\n",
    "\n",
    "    logging.info(\"Converting to database...\")\n",
    "    database = db_utils.dataframe_to_database(df, \"Sales\")\n",
    "    \n",
    "    fixed_sql_prompt = openai_utils.create_table_definition_prompt(df, \"Sales\")\n",
    "    logging.info(f\"Fixed SQL Prompt: {fixed_sql_prompt}\")\n",
    "\n",
    "    logging.info(\"Waiting for user input...\")\n",
    "    user_input = openai_utils.user_query_input()\n",
    "    final_prompt = openai_utils.combine_prompts(fixed_sql_prompt, user_input)\n",
    "    logging.info(f\"Final Prompt: {final_prompt}\")\n",
    "\n",
    "    logging.info(\"Sending to OpenAI...\")\n",
    "    response = openai_utils.send_to_openai(final_prompt)\n",
    "    proposed_query = response[\"choices\"][0][\"text\"]\n",
    "    proposed_query_postprocessed = db_utils.handle_response(response)\n",
    "    logging.info(f\"Response obtained. Proposed sql query: {proposed_query_postprocessed}\")\n",
    "    result = db_utils.execute_query(database, proposed_query_postprocessed)\n",
    "    logging.info(f\"Result: {result}\")\n",
    "    print(result)"
   ]
  },
  {
   "cell_type": "markdown",
   "id": "b90a3c25",
   "metadata": {},
   "source": []
  }
 ],
 "metadata": {
  "kernelspec": {
   "display_name": "Python 3 (ipykernel)",
   "language": "python",
   "name": "python3"
  },
  "language_info": {
   "codemirror_mode": {
    "name": "ipython",
    "version": 3
   },
   "file_extension": ".py",
   "mimetype": "text/x-python",
   "name": "python",
   "nbconvert_exporter": "python",
   "pygments_lexer": "ipython3",
   "version": "3.9.7"
  }
 },
 "nbformat": 4,
 "nbformat_minor": 5
}
