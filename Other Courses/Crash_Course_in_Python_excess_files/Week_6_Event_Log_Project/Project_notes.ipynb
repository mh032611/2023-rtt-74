{
 "cells": [
  {
   "cell_type": "markdown",
   "metadata": {},
   "source": [
    "Sort vs Sorted "
   ]
  },
  {
   "cell_type": "code",
   "execution_count": null,
   "metadata": {},
   "outputs": [],
   "source": [
    "# 1. sort() methods\n",
    "\n",
    "\"\"\"\n",
    "- sort is a method that can be applied directly to a list (or other mutable sequesnces) in python.\n",
    "- It sorts the list in-place, meaning it modifies the original list and does not return a neww one.\n",
    "Example: 'my list.sort()'\n",
    "\"\"\"\n",
    "\n",
    "\n",
    "# sorted() function:\n",
    "\"\"\"\n",
    "sorted() function:\n",
    "sorted() is a built-in python function that takes an iterable (e.g., list, tuple, string) as an argument and returns a new sorted list.\n",
    "\"\"\""
   ]
  },
  {
   "cell_type": "code",
   "execution_count": 5,
   "metadata": {},
   "outputs": [
    {
     "name": "stdout",
     "output_type": "stream",
     "text": [
      "[1, 2, 3]\n",
      "[1, 2, 3]\n",
      "[1, 2, 3]\n",
      "(3, 1, 2)\n",
      "(1, 2, 3)\n",
      "['e', 'h', 'l', 'l', 'o']\n"
     ]
    }
   ],
   "source": [
    "# 1. with lists:\n",
    "\"\"\"\n",
    "when we use sorted() function, it creates a brand new (object) \n",
    "We see this on the line where we assign a new variable to the new sorted(my_list)\n",
    "\"\"\"\n",
    "my_list = [1,2,3]\n",
    "sorted_list = sorted(my_list)\n",
    "print(sorted_list) # [1,2,3]\n",
    "print(my_list) # [3,2,1]\n",
    "\n",
    "# 2. with tuple\"\n",
    "my_tuple = (3,1,2)\n",
    "sorted_tuple = sorted(my_tuple)\n",
    "print(sorted_tuple) # Output: [1, 2, 3]\n",
    "print(my_tuple) \n",
    "print(tuple(sorted(my_tuple))) # output tuple (1,2,3)\n",
    "# my_tuple.sort() # will result in an error because tuples are immutable and cannot be modified. PLUS sort() ONLY applies to object lists\n",
    "\n",
    "# 3. With strings:\n",
    "my_string = \"hello\"\n",
    "sorted_string = sorted(my_string)\n",
    "print(sorted_string) # output: ['e', 'h', 'l', 'l', 'o']\n",
    "\n"
   ]
  },
  {
   "cell_type": "markdown",
   "metadata": {},
   "source": [
    "Since sorted() is more versatile and can be used with various iterables, it is needed to sort elements out of lists."
   ]
  },
  {
   "cell_type": "code",
   "execution_count": 9,
   "metadata": {},
   "outputs": [
    {
     "name": "stdout",
     "output_type": "stream",
     "text": [
      "['Ray', 'carlos', 'Valerie']\n",
      "['Valerie', 'carlos', 'Ray']\n"
     ]
    }
   ],
   "source": [
    "#using a key to modify the sorted() function order\n",
    "names = ['carlos', 'Ray', 'Valerie']\n",
    "print(sorted(names, key=len)) # ['Ray', 'carlos', 'Valerie']\n",
    "\n",
    "def second(elem):\n",
    "    return elem[1] # returns the 2nd element from each iterable\n",
    "second(names[1]) # returns a\n",
    "second(names) # returns 'ray'. because its the second element in the list\n",
    "\n",
    "# print(sorted(names, key=len))\n",
    "\n",
    "\n",
    "\n",
    "# Beyond our scope LAMBDA FUNCTIONS (Not covered in this lesson)\n",
    "print(sorted(names, key = lambda s:s[::-1]))\n"
   ]
  },
  {
   "cell_type": "code",
   "execution_count": null,
   "metadata": {},
   "outputs": [],
   "source": [
    "#sorting a listed using a key function\n",
    "names = ['carlos', 'Ray', 'Valerie']\n",
    "\n"
   ]
  },
  {
   "cell_type": "code",
   "execution_count": 11,
   "metadata": {},
   "outputs": [
    {
     "name": "stdout",
     "output_type": "stream",
     "text": [
      "Original List: ['John', 'Sam']\n",
      "Sorted List: ['Sam', 'John']\n"
     ]
    }
   ],
   "source": [
    "# Sangeeta code\n",
    "def get_second_character(element):\n",
    "    return element[1]\n",
    "\n",
    "def sort_by_second_character(lst):\n",
    "    return sorted(lst, key=get_second_character)\n",
    "\n",
    "name1 = [\"John\", \"Sam\"]\n",
    "\n",
    "\n",
    "sorted_name1 = sort_by_second_character(name1)\n",
    "\n",
    "print(\"Original List:\", name1)\n",
    "print(\"Sorted List:\", sorted_name1)"
   ]
  }
 ],
 "metadata": {
  "kernelspec": {
   "display_name": "myenv",
   "language": "python",
   "name": "python3"
  },
  "language_info": {
   "codemirror_mode": {
    "name": "ipython",
    "version": 3
   },
   "file_extension": ".py",
   "mimetype": "text/x-python",
   "name": "python",
   "nbconvert_exporter": "python",
   "pygments_lexer": "ipython3",
   "version": "3.10.11"
  },
  "orig_nbformat": 4
 },
 "nbformat": 4,
 "nbformat_minor": 2
}
