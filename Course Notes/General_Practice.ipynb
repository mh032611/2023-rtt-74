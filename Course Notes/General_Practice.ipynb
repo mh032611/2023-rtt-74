{
 "cells": [
  {
   "cell_type": "markdown",
   "metadata": {},
   "source": []
  },
  {
   "cell_type": "code",
   "execution_count": 8,
   "metadata": {},
   "outputs": [
    {
     "name": "stdout",
     "output_type": "stream",
     "text": [
      "345-5469876\n",
      "['345', '5469876']\n",
      "757-8986572\n",
      "['757', '8986572']\n",
      "349-3609781\n",
      "['349', '3609781']\n",
      "['345', '757', '349'] [['5469876'], ['8986572'], ['3609781']]\n"
     ]
    }
   ],
   "source": [
    "# 08-07-2023\n",
    "\n",
    "# Be comfortable formatting data comming in. \n",
    "\n",
    "# format a list of phone numbers by splitting them into area codes and raw numbers.\n",
    "\n",
    "##########################\n",
    "\n",
    "phone_numbers = [\"345-5469876\", \"757-8986572\", \"349-3609781\"]\n",
    "\n",
    "def phone_formatter (numbers):\n",
    "    area_codes = []\n",
    "    raw_numbers = []\n",
    "    for i in numbers:\n",
    "        print(i)\n",
    "        segmented = i.split(\"-\") # split only works on strings # The split() method splits a string into a list\n",
    "        print(segmented)\n",
    "        area_codes.append(segmented[0])\n",
    "        raw_numbers.append(segmented[1:])\n",
    "    print(area_codes, raw_numbers)\n",
    "\n",
    "phone_formatter(phone_numbers)\n",
    "\n",
    "###########################\n",
    "\n",
    "# phone_numbers = ['345-5469876', '757-8986572', '349-3609781']\n",
    "\n",
    "# def phone_formatter(numbers):\n",
    "#     area_codes = []\n",
    "#     raw_numbers = []\n",
    "#     for i in numbers:\n",
    "#         segmented = i.split(\"-\")\n",
    "#         area_codes.append(segmented[0])\n",
    "#         raw_numbers.append(segmented[1])\n",
    "#     return area_codes, raw_numbers\n",
    "\n",
    "# area_codes, raw_numbers = phone_formatter(phone_numbers)\n",
    "# print(area_codes)\n",
    "# print(raw_numbers)"
   ]
  },
  {
   "cell_type": "code",
   "execution_count": 9,
   "metadata": {},
   "outputs": [
    {
     "name": "stdout",
     "output_type": "stream",
     "text": [
      "['345', '757', '349']\n",
      "['5469876', '8986572', '3609781']\n"
     ]
    }
   ],
   "source": [
    "# Explaination \n",
    "\n",
    "phone_numbers = ['345-5469876', '757-8986572', '349-3609781']\n",
    "\n",
    "def phone_formatter(numbers):\n",
    "    area_codes = []  # Initialize an empty list to store area codes.\n",
    "    raw_numbers = []  # Initialize an empty list to store raw numbers.\n",
    "    for i in numbers:  # Iterate through each phone number in the input list.\n",
    "        i = str(i)  # Convert the phone number to a string (in case it's not already).\n",
    "        segmented = i.split(\"-\")  # Split the phone number by the dash \"-\" character.\n",
    "        area_codes.append(segmented[0])  # Add the first part (area code) to the area_codes list.\n",
    "        raw_numbers.append(segmented[1])  # Add the second part (raw number) to the raw_numbers list.\n",
    "    return area_codes, raw_numbers  # Return the two lists containing area codes and raw numbers.\n",
    "\n",
    "area_codes, raw_numbers = phone_formatter(phone_numbers)  # Call the phone_formatter function with the phone_numbers list.\n",
    "print(area_codes)  # Print the area codes.\n",
    "print(raw_numbers)  # Print the raw numbers."
   ]
  },
  {
   "cell_type": "code",
   "execution_count": 11,
   "metadata": {},
   "outputs": [
    {
     "name": "stdout",
     "output_type": "stream",
     "text": [
      "345-5469876\n",
      "['345', '5469876']\n",
      "757-8986572\n",
      "['757', '8986572']\n",
      "349-3609781\n",
      "['349', '3609781']\n",
      "['345', '757', '349'] ['5469876', '8986572', '3609781']\n"
     ]
    }
   ],
   "source": [
    "# Using Join \n",
    "phone_numbers = [\"345-5469876\", \"757-8986572\", \"349-3609781\"]\n",
    "\n",
    "def phone_formatter (numbers):\n",
    "    area_codes = []\n",
    "    raw_numbers = []\n",
    "    for i in numbers:\n",
    "        print(i)\n",
    "        segmented = i.split(\"-\")\n",
    "        print(segmented)\n",
    "        area_codes.append(segmented[0])\n",
    "        raw_numbers.append(\"\".join(segmented[1:]))\n",
    "    print(area_codes, raw_numbers)\n",
    "\n",
    "phone_formatter(phone_numbers)"
   ]
  }
 ],
 "metadata": {
  "kernelspec": {
   "display_name": "Python 3",
   "language": "python",
   "name": "python3"
  },
  "language_info": {
   "codemirror_mode": {
    "name": "ipython",
    "version": 3
   },
   "file_extension": ".py",
   "mimetype": "text/x-python",
   "name": "python",
   "nbconvert_exporter": "python",
   "pygments_lexer": "ipython3",
   "version": "3.10.11"
  },
  "orig_nbformat": 4
 },
 "nbformat": 4,
 "nbformat_minor": 2
}
