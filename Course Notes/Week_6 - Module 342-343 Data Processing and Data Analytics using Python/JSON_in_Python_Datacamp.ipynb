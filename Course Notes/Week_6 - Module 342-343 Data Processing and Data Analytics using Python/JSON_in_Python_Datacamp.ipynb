{
  "cells": [
    {
      "cell_type": "markdown",
      "metadata": {
        "id": "KHhKesTIpyDB"
      },
      "source": [
        "#### Working with JSON in Python: A Step-by-Step Guide for Beginners\n",
        "https://www.datacamp.com/tutorial/json-data-python\n",
        "\n",
        "Objectives:\n",
        "\n",
        "- Understand JSON and its pros and cons\n",
        "- Identify use cases and alternatives to JSON\n",
        "- Perform JSON serialization and deserialization in Python\n",
        "- Work with JSON data in Python\n",
        "- Format JSON data using the `json` library\n",
        "- Optimize JSON performance in Python\n",
        "\n",
        "## What is JSON?\n",
        "\n",
        "JSON (JavaScript Object Notation) is a lightweight, language-independent data interchange format. It's ideal for exchanging data between web-based applications due to its simplicity, efficiency, and support for complex data structures.\n",
        "It's widely used in web development, APIs, and client-side web applications.\n",
        "\n"
      ]
    },
    {
      "cell_type": "markdown",
      "metadata": {
        "id": "XZmASsL2pyDK"
      },
      "source": [
        "#### Extra Resources:\n",
        "https://www.w3schools.com/python/python_json.asp\n",
        "https://www.datacamp.com/tutorial/json-data-python\n",
        "alt: https://realpython.com/python-json/\n",
        "https://www.realpythonproject.com/a-cheat-sheet-for-working-with-json-data-in-python/\n",
        "\n",
        "Valerie's Playlist:\n",
        "https://bit.ly/3DZlaaY\n",
        "\n",
        "\n",
        "PCC V3: page 201-207\n",
        "\\\\nas\\Media\\Documents [V]\\_CIS Classes\\DataEngineering\\Python Resources\\Python Crash Course - Eric Matthes - 3e files-vlb\\chapter_10\\storing_data\n",
        "\n",
        "numberwriter.py\n",
        "numberreader.py\n",
        "rememberme.py\n",
        "greetuser.py\n",
        "\n",
        "\n",
        "https://www.techiedelight.com/json-introduction/  - Good!\n",
        "https://techiedelight.com/tools/json\n",
        "\n",
        "\n",
        "Really Good:\n",
        "https://developer.mozilla.org/en-US/docs/Learn/JavaScript/Objects/JSON\n"
      ]
    },
    {
      "cell_type": "markdown",
      "metadata": {
        "id": "te1jwislpyDM"
      },
      "source": [
        "### JSON Example Below\n",
        "\n",
        "•  In this example, we have a JSON object representing a person with various properties like name, age, hobbies, and address.  \n",
        "•  It defines an object with several key-value pairs.  \n",
        "•  The keys are (MUST BE) strings and the values can be of various types, including strings, numbers, booleans, arrays, and nested objects.  \n",
        "•  In this particular example, the object represents a person named John Doe with an age of 30, an email address, and a boolean value indicating whether or not they are an employee.  \n",
        "•  The hobbies property is an array [list] that contains three strings.   \n",
        "•  The address property is an object with several properties consisting of key-value pairs defining their street, city, state, and zip code.  \n",
        "\n",
        "Note that JSON data is typically formatted as a series of key-value pairs and are formatted exactly like a Python dictoinary, with the key represented as a string and the value represented in various types such as string, number, boolean, array, or object.\n",
        "\n",
        "### The KEY difference (see what i did there?) is that dictionary keys can be any hashable data type -\n",
        "(In the context of dictionaries in programming, the term \"hashable\" refers to an object that has a hash value that remains constant throughout its lifetime. A hash value is a numerical representation generated from the object's data, and it's used by dictionaries and other data structures to quickly look up and access values associated with specific keys.\n",
        "\n",
        "Hashable keys are crucial for dictionary performance. When you use a hashable object as a key in a dictionary, the dictionary can calculate the hash value of the key and use it to efficiently find the corresponding value without iterating through the entire dictionary.)\n",
        "\n",
        "### Quote Usage Json vs dictionary:\n",
        "While JSON enforces the use of double quotes for keys and values, Python dictionaries provide more flexibility by allowing both single and double quotes.\n"
      ]
    },
    {
      "cell_type": "markdown",
      "metadata": {
        "vscode": {
          "languageId": "javascript"
        },
        "id": "-6_pCRnHpyDO"
      },
      "source": [
        "```json example\n",
        "{\n",
        "  \"name\": \"John Doe\",\n",
        "  \"age\": 30,\n",
        "  \"email\": \"john.doe@example.com\",\n",
        "  \"is_employee\": true,\n",
        "  \"hobbies\": [\n",
        "    \"reading\",\n",
        "    \"playing soccer\",\n",
        "    \"traveling\"\n",
        "  ],\n",
        "  \"address\": {\n",
        "    \"street\": \"123 Main Street\",\n",
        "    \"city\": \"New York\",\n",
        "    \"state\": \"NY\",\n",
        "    \"zip\": \"10001\"\n",
        "  }\n",
        "}\n",
        "```json"
      ]
    },
    {
      "cell_type": "markdown",
      "metadata": {
        "id": "z3_97FQYpyDO"
      },
      "source": [
        "## Advantages and Disadvantages of Using JSON\n",
        "### Pros of JSON\n",
        "\n",
        "- Lightweight and easy to read\n",
        "- Interoperable between different systems\n",
        "- Easy to validate against a schema\n",
        "\n",
        "### Cons of JSON\n",
        "\n",
        "- Limited support for complex data structures (like graphs or trees)\n",
        "- No schema enforcement - which means that it is possible to store inconsistent or invalid data in a JSON file.\n",
        "- Limited query and indexing capabilities\n",
        "\n",
        "## Alternatives to JSON\n",
        "\n",
        "- XML (Extensible Markup Language) XML is a markup language that uses tags to define elements and attributes to describe the data. It is a more verbose format than JSON, but it has strong support for schema validation and document structure.\n",
        "- YAML (Yet Another Markup Language) YAML is a human-readable data serialization format that is designed to be easy to read and write. It is a more concise format than XML and has support for complex data types and comments.\n",
        "- MessagePack (binary serialization)\n",
        "- Protocol Buffers (binary serialization)\n",
        "- BSON (Binary JSON, used in MongoDB)\n",
        "\n",
        "## Python Libraries for Working with JSON\n",
        "\n",
        "- `json`: Built-in package for encoding and decoding JSON data\n",
        "- `simplejson`: Fast JSON encoder and decoder\n",
        "- `ujson`: Ultra-fast JSON encoder and decoder\n",
        "- `jsonschema`: Validate JSON data against a schema\n",
        "\n"
      ]
    },
    {
      "cell_type": "markdown",
      "metadata": {
        "id": "7xcMP_qqpyDP"
      },
      "source": [
        "Python and JSON have different data types, with Python offering a broader range of data types than JSON. While Python is capable of storing intricate data structures such as sets and dictionaries, JSON is limited to handling strings, numbers, booleans, arrays, and objects. Let’s look at some of the differences:\n",
        "\n",
        "| Python Data Type | Comparable JSON Data Type |\n",
        "|------------------|--------------------------|\n",
        "| int              | Number                   |\n",
        "| float            | Number                   |\n",
        "| str              | String                   |\n",
        "| list             | Array                    |\n",
        "| tuple            | Array                    |\n",
        "| dict             | Object                   |\n",
        "| True             | true                     |\n",
        "| False            | false                    |\n",
        "| None             | null                     |\n",
        "\n",
        "\n"
      ]
    },
    {
      "cell_type": "markdown",
      "metadata": {
        "id": "MNS1sAvDpyDQ"
      },
      "source": [
        "## JSON Serialization and Deserialization\n",
        "## Serializing JSON\n",
        "Serialization is the process of converting an object or data structure into a JSON string. This process is necessary in order to transmit or store the data in a format that can be read by other systems or programs. JSON serialization is a common technique used in web development, where data is often transmitted between different systems or applications.\n",
        "\n",
        "## Deserializing JSON\n",
        "Deserialization, on the other hand, is the process of converting a JSON string back into an object or data structure. This process is necessary to use the data in a program or system. JSON deserialization is often used in web development to parse data received from an API or other source."
      ]
    },
    {
      "cell_type": "code",
      "execution_count": null,
      "metadata": {
        "id": "VI32S1cKpyDR",
        "outputId": "ac51b076-72d6-4cbd-fe40-83a12ac30911"
      },
      "outputs": [
        {
          "name": "stdout",
          "output_type": "stream",
          "text": [
            "{\"name\": \"John\", \"age\": 30}\n",
            "<class 'str'>\n",
            "{'name': 'John', 'age': 30}\n",
            "<class 'dict'>\n"
          ]
        }
      ],
      "source": [
        "\"\"\" 1. json.dumps(python_obj) Serialization = Convert Python Object to JSON String\n",
        "The dumps() function takes a single argument, the Python object, and returns a JSON string. Here's an example: \"\"\"\n",
        "\n",
        "import json\n",
        "\n",
        "python_obj = {'name': 'John', 'age': 30}\n",
        "\n",
        "\n",
        "\"\"\" The Python object python_obj in the given code is a dictionary. In Python, a dictionary is an unordered collection of key-value pairs, where each key is unique and associated with a value. Dictionaries are also sometimes referred to as \"dicts.\"\n",
        "\n",
        "the dictionary python_obj has two key-value pairs:\n",
        "\n",
        "Key: 'name', Value: 'John'\n",
        "Key: 'age', Value: 30\n",
        " \"\"\"\n",
        "# We can access the values stored in the dictionary using their corresponding keys. For instance:\n",
        "\n",
        "name = python_obj['name']  # Retrieves the value 'John'\n",
        "age = python_obj['age']    # Retrieves the value 30\n",
        "\n",
        "\n",
        "# Dictionaries are commonly used for storing and retrieving data using meaningful keys, making it easy to organize and access information.\n",
        "\n",
        "json_string = json.dumps(python_obj)\n",
        "\n",
        "print(json_string)  # Output: {\"name\": \"John\", \"age\": 30}\n",
        "print(type(json_string))\n",
        "\n",
        "\n",
        "print(python_obj)\n",
        "print(type(python_obj))\n"
      ]
    },
    {
      "cell_type": "code",
      "execution_count": null,
      "metadata": {
        "id": "MvylVR9upyDV"
      },
      "outputs": [],
      "source": [
        "# Dictionaries are commonly used for storing and retrieving data using meaningful keys, making it easy to organize and access information.\n",
        "\n",
        "json_string = json.dumps(python_obj)\n",
        "print(json_string)  # Output: {\"name\": \"John\", \"age\": 30}\n",
        "print(type(json_string))\n",
        "print(type(python_obj))\n"
      ]
    },
    {
      "cell_type": "code",
      "execution_count": null,
      "metadata": {
        "id": "c0fpzCdUpyDV",
        "outputId": "dc75b51a-d43b-4ac9-cb19-e670f7d29af8"
      },
      "outputs": [
        {
          "name": "stdout",
          "output_type": "stream",
          "text": [
            "{'name': 'John', 'age': 30}\n",
            "<class 'dict'>\n"
          ]
        }
      ],
      "source": [
        "\"\"\" 2. json.loads() Deserialization = parse a JSON string into a Python object.\n",
        "The loads() function takes a single argument, the JSON string, and returns a Python object. Here's an example:\n",
        " \"\"\"\n",
        "\n",
        "import json\n",
        "\n",
        "json_string = '{\"name\": \"John\", \"age\": 30}'\n",
        "python_obj = json.loads(json_string)\n",
        "print(python_obj)   # output: {'name': 'John', 'age': 30}\n",
        "print(type(python_obj))\n"
      ]
    },
    {
      "cell_type": "markdown",
      "metadata": {
        "id": "mlpw42rDpyDW"
      },
      "source": [
        "Explanation\n",
        "json.loads() uses the Python programming language and the built-in json module to convert a JSON string into a Python object.\n",
        "• First, a JSON string is defined and assigned to the variable json_string.\n",
        "• The json.loads() function is used to convert the JSON string into a Python object.\n",
        "• This function takes a JSON string as input and returns a Python object.\n",
        "• In this case, the Python object is assigned to the variable python_obj.\n",
        "• Finally, the print() function is used to display the Python object on the console.\n",
        "• The output of this code is a dictionary with two key-value pairs: {'name': 'John', 'age': 30}."
      ]
    },
    {
      "cell_type": "code",
      "execution_count": null,
      "metadata": {
        "id": "iFTOc5UOpyDX"
      },
      "outputs": [],
      "source": [
        "\"\"\" 3. json.dump() Serialization = convert python object and write it to a JSON file.\n",
        "The dump() function takes two arguments, the Python object and the file object. Here's an example:\n",
        " \"\"\"\n",
        "import json\n",
        "\n",
        "# serialize Python object and write to JSON file\n",
        "python_obj = {'name': 'John', 'age': 30}\n",
        "with open('data.json', 'w') as file:\n",
        "    json.dump(python_obj, file)\n",
        "\n"
      ]
    },
    {
      "cell_type": "markdown",
      "metadata": {
        "id": "2gFF0mbCpyDX"
      },
      "source": [
        "Explanation   \n",
        "json.dump() from json module, which provides methods for working with JSON data.\n",
        "• It then creates a Python dictionary object called python_obj with two key-value pairs: 'name': 'John' and 'age': 30.\n",
        "• The with statement is used to open a file called data.json in write mode ('w').\n",
        "• The json.dump() method is then used to serialize the python_obj dictionary object into JSON format and write it to the data.json file.\n",
        "• In other words, this code converts a Python dictionary object into a JSON string and saves it to a file.\n"
      ]
    },
    {
      "cell_type": "code",
      "execution_count": null,
      "metadata": {
        "id": "--x5NQBLpyDX",
        "outputId": "210c7a45-448a-4e16-b313-c52c0ce3fc7a"
      },
      "outputs": [
        {
          "name": "stdout",
          "output_type": "stream",
          "text": [
            "{'name': 'John', 'age': 30}\n"
          ]
        }
      ],
      "source": [
        "\"\"\" 4. json.load() Deserialization = read from a JSON file and parse its contents into a Python Object.\n",
        "The load() function takes a single argument, the file object, and returns a Python object. Here's an example:\n",
        " \"\"\"\n",
        "\n",
        "import json\n",
        "\n",
        "# read JSON file and parse contents\n",
        "with open('data.json', 'r') as file:\n",
        "    python_obj = json.load(file)\n",
        "print(python_obj)  # output: {'name': 'John', 'age': 30}\n",
        "\n"
      ]
    },
    {
      "cell_type": "code",
      "execution_count": null,
      "metadata": {
        "id": "Gbq0w9t7pyDY"
      },
      "outputs": [],
      "source": [
        "Explanation\n",
        "read a JSON file named \"data.json\" and parse its contents.\n",
        "• First, the code imports the json module, which provides methods for working with JSON data.\n",
        "• Next, the code uses a with statement to open the \"data.json\" file in read mode ('r') and assigns the resulting file object to the variable file.\n",
        "• Within the with block, the json.load() method is called with the file object as its argument.\n",
        "• This method reads the contents of the file and converts it into a Python object, which is then assigned to the variable python_obj.\n",
        "• Finally, the code prints the value of python_obj, which should be a dictionary with the keys \"name\" and \"age\" and their corresponding values.\n"
      ]
    },
    {
      "cell_type": "code",
      "execution_count": null,
      "metadata": {
        "id": "M20TsuSXpyDY"
      },
      "outputs": [],
      "source": [
        "\"\"\" json.dumps() Python list to JSON JSON-formatted string, which we store in the json_string variable.\n",
        "In this example, we defined a list called my_list with a mix of integers and strings.\n",
        "\"\"\"\n",
        "\n",
        "import json\n",
        "\n",
        "my_list = [1, 2, 3, \"four\", \"five\"]\n",
        "json_string = json.dumps(my_list)\n",
        "print(json_string)"
      ]
    },
    {
      "cell_type": "markdown",
      "metadata": {
        "id": "N6ifYWbopyDZ"
      },
      "source": [
        "Explanation\n",
        "json.dumps() convert a Python list into a JSON string.\n",
        "• First, the json module is imported.\n",
        "• The json.dumps() function is used to convert the my_list into a JSON string which is assigned to the variable json_string."
      ]
    },
    {
      "cell_type": "markdown",
      "metadata": {
        "id": "dTyjZXrDpyDZ"
      },
      "source": [
        "### Formatting JSON Data - Indentation and Sorting JSON output"
      ]
    },
    {
      "cell_type": "code",
      "execution_count": null,
      "metadata": {
        "id": "kxdNKmCfpyDZ"
      },
      "outputs": [],
      "source": [
        "\"\"\" 1. Indent\n",
        "This option specifies the number of spaces to use for indentation in the output JSON string. For example:\n",
        " \"\"\"\n",
        "\n",
        "import json\n",
        "\n",
        "data = {\n",
        "    \"name\": \"John\",\n",
        "    \"age\": 30,\n",
        "    \"city\": \"New York\"\n",
        "}\n",
        "\n",
        "json_data = json.dumps(data, indent=2)\n",
        "print(json_data)\n",
        "# This will produce a JSON formatted string with an indentation of 2 spaces for each level of nesting"
      ]
    },
    {
      "cell_type": "code",
      "execution_count": null,
      "metadata": {
        "id": "rydfbIM4pyDa"
      },
      "outputs": [],
      "source": [
        "Explanation\n",
        "• A dictionary data is defined with three key-value pairs.\n",
        "• The json.dumps() method is then used to convert the data dictionary into a JSON formatted string.\n",
        "• The indent parameter is set to 2, which adds 2 spaces of indentation for each level of nesting in the JSON data.\n",
        "• Finally, the JSON formatted string is printed to the console using the print() function."
      ]
    },
    {
      "cell_type": "code",
      "execution_count": null,
      "metadata": {
        "id": "e9SCOfsnpyDb"
      },
      "outputs": [],
      "source": [
        "\"\"\" 2. Sort_keys\n",
        "This option specifies whether the keys in the output JSON string should be sorted in alphabetical order. For example:\n",
        "\n",
        " \"\"\"\n",
        "import json\n",
        "\n",
        "data = {\n",
        "    \"name\": \"John\",\n",
        "    \"age\": 30,\n",
        "    \"city\": \"New York\"\n",
        "}\n",
        "\n",
        "json_data = json.dumps(data, sort_keys=True)\n",
        "print(json_data)\n",
        "\n",
        " # This will produce a JSON formatted string with the keys in alphabetical order:\n",
        "#{\"age\": 30, \"city\": \"New York\", \"name\": \"John\"}\n"
      ]
    },
    {
      "cell_type": "code",
      "execution_count": null,
      "metadata": {
        "id": "Etbz5SQ2pyDb"
      },
      "outputs": [],
      "source": [
        "Explanation\n",
        "This code creates a Python dictionary with three key-value pairs.\n",
        "• The keys are \"age\", \"city\", and \"name\", and their corresponding values are 30, \"New York\", and \"John\", respectively.\n",
        "• The curly braces {} denote the creation of a dictionary, and the colons : separate the keys from their values.\n",
        "• The keys and values are separated by commas.\n",
        "• The json.dumps() function is then used to convert the data dictionary into a JSON-formatted string.\n",
        "• The sort_keys=True argument sorts the keys in the resulting JSON string alphabetically.\n",
        "• Finally, the JSON string is printed to the console using the print() function.\n"
      ]
    },
    {
      "cell_type": "code",
      "execution_count": null,
      "metadata": {
        "id": "ndrS_LU8pyDc"
      },
      "outputs": [],
      "source": [
        "\"\"\" 3. Separators\n",
        "This option allows you to specify the separators used in the output JSON string. The separators parameter takes a tuple of two strings, where the first string is the separator between JSON object key-value pairs, and the second string is the separator between items in JSON arrays. For example:\n",
        " \"\"\"\n",
        "\n",
        "import json\n",
        "\n",
        "data = {\n",
        "    \"name\": \"John\",\n",
        "    \"age\": 30,\n",
        "    \"city\": \"New York\"\n",
        "}\n",
        "\n",
        "json_data = json.dumps(data, separators=(\",\", \":\"))\n",
        "print(json_data)\n",
        "\n",
        "# This will produce a JSON formatted string with a comma separator between key-value pairs and a colon separator between keys and values:\n",
        "#{\"name\":\"John\",\"age\":30,\"city\":\"New York\"}\n"
      ]
    },
    {
      "cell_type": "markdown",
      "metadata": {
        "id": "OsCt4GAkpyDc"
      },
      "source": [
        "Explanation\n",
        "• a Python dictionary data is defined with three key-value pairs representing a person's name, age, and city.\n",
        "• The json.dumps() function is then called with data as the argument, which converts the dictionary to a JSON formatted string.\n",
        "• The separators parameter is also specified with a comma separator between key-value pairs and a colon separator between keys and values.\n",
        "• Finally, the resulting JSON string is printed to the console using the print() function."
      ]
    },
    {
      "cell_type": "code",
      "execution_count": null,
      "metadata": {
        "id": "3RLJsSCdpyDd"
      },
      "outputs": [],
      "source": [
        "\"\"\" Python Example - JSON data in APIs\n",
        "More Info: https://www.datacamp.com/tutorial/making-http-requests-in-python that has a datacamp workspace\n",
        " \"\"\"\n",
        "import requests\n",
        "import json\n",
        "\n",
        "\n",
        "url = \"https://jsonplaceholder.typicode.com/posts\"\n",
        "\n",
        "\n",
        "response = requests.get(url)\n",
        "\n",
        "\n",
        "if response.status_code == 200:\n",
        "    data = json.loads(response.text)\n",
        "    print(data)\n",
        "else:\n",
        "    print(f\"Error retrieving data, status code: {response.status_code}\")\n",
        "\n"
      ]
    },
    {
      "cell_type": "markdown",
      "metadata": {
        "id": "hzBCW64LpyDd"
      },
      "source": [
        "Explanation  \n",
        "This code uses the requests library and the json library in Python to make a request to the URL \"https://jsonplaceholder.typicode.com/posts\" and retrieve data.\n",
        " The requests.get(url) line makes the actual request and stores the response in the response variable.\n",
        "• If the response status code is 200 (which means the request was successful), the code loads the response.text (formatted as JSON) using the json library and into a Python dictionary using the json.loads() method and stores it in the data variable.\n",
        "\n",
        "json.loads() - used to parse JSON-formatted text into a Python data structure. It transforms the JSON data into a dictionary, list, or other appropriate Python data type, depending on the JSON content.\n",
        "• Overall, this code retrieves data from a JSON API and prints it to the console.\n",
        "\n",
        "\n"
      ]
    },
    {
      "cell_type": "markdown",
      "metadata": {
        "id": "UuGF7aeLpyDd"
      },
      "source": [
        "Optimizing JSON Performance in Python\n",
        "When working with large amounts of JSON data in Python, optimizing the performance of your code is important to ensure that it runs efficiently. Here are some tips for optimizing JSON performance in Python:\n",
        "\n",
        "Use the cjson or ujson libraries. These libraries are faster than the standard JSON library in Python and can significantly improve the performance of JSON serialization and deserialization.\n",
        "Avoid unnecessary conversions. Converting back and forth between Python objects and JSON data can be expensive in terms of performance. If possible, try to work directly with JSON data and avoid unnecessary conversions.\n",
        "Use generators for large JSON data. When working with large amounts of JSON data, using generators can help reduce memory usage and improve performance.\n",
        "Minimize network overhead. When transmitting JSON data over a network, minimizing the amount of data transferred can improve performance. Use compression techniques such as gzip to reduce the size of JSON data before transmitting it over a network.\n",
        "Use caching. If you frequently access the same JSON data, caching the data can improve performance by reducing the number of requests to load the data.\n",
        "Optimize data structure: The structure of the JSON data can also impact performance. Using a simpler, flatter data structure can improve performance over a complex, nested structure.\n",
        "Limitations of JSON format\n",
        "While JSON is a popular format for data exchange in many applications, there are some implementation limitations to be aware of:\n",
        "\n",
        "Lack of support for some data types. JSON has limited support for certain data types, such as binary data, dates, and times. While there are workarounds to represent these types in JSON, it can make serialization and deserialization more complicated.\n",
        "Lack of support for comments. Unlike other formats, such as YAML and XML, JSON does not support comments. This can make it harder to add comments to JSON data to provide context or documentation.\n",
        "Limited flexibility for extensions. While JSON does support extensions through custom properties or the $schema property, the format does not provide as much flexibility for extensions as other formats, such as XML or YAML.\n",
        "No standard for preserving key order. JSON does not have a standard way of preserving the order of keys in an object, making it harder to compare or merge JSON objects.\n",
        "Limited support for circular references. JSON has limited support for circular references, where an object refers back to itself. This can make it harder to represent some data structures in JSON.\n",
        "It's important to be aware of these implementation limitations when working with JSON data to ensure that the format is appropriate for your needs and to avoid potential issues with serialization, deserialization, and data representation.\n",
        "\n",
        "Conclusion\n",
        "JSON is a versatile and widely used format for data exchange in modern web development, and Python provides a powerful set of tools for working with JSON data. Whether you are building an API or working with client-side web applications, understanding the basics of JSON in Python is an essential skill for any modern developer. By mastering the techniques outlined in this tutorial, you will be well on your way to working with JSON data in Python and building robust, scalable applications that leverage the power of this powerful data interchange format.\n",
        "\n",
        "Later, we willlearn how to build pipelines to import data kept in common storage formats, check out our Streamlined Data Ingestion with pandas course. You’ll use pandas, a major Python library for analytics, to get data from a variety of sources, including a spreadsheet of survey responses, a database of public service requests, and an API for a popular review site."
      ]
    }
  ],
  "metadata": {
    "kernelspec": {
      "display_name": "Python 3",
      "language": "python",
      "name": "python3"
    },
    "language_info": {
      "codemirror_mode": {
        "name": "ipython",
        "version": 3
      },
      "file_extension": ".py",
      "mimetype": "text/x-python",
      "name": "python",
      "nbconvert_exporter": "python",
      "pygments_lexer": "ipython3",
      "version": "3.10.10"
    },
    "orig_nbformat": 4,
    "colab": {
      "provenance": []
    }
  },
  "nbformat": 4,
  "nbformat_minor": 0
}