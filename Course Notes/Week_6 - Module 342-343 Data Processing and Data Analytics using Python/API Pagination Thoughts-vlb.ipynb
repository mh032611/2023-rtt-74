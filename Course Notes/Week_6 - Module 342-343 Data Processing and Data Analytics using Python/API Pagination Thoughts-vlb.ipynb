{
 "cells": [
  {
   "cell_type": "markdown",
   "metadata": {},
   "source": [
    "Valerie's Thoughts on Pagination\n",
    "2023.08.22 VLB"
   ]
  },
  {
   "cell_type": "markdown",
   "metadata": {},
   "source": [
    "API pagination is a crucial concept when dealing with large sets of data from APIs. It ensures that you receive data in manageable chunks rather than overwhelming your system. \n",
    "Let's explore 3 common approaches to handle paginated API endpoints using Python, specifically the `https://rickandmortyapi.com/api/character` API as an example.\n",
    "\n",
    "1 and 2 are most commonly utlized\n",
    "\n",
    "\n",
    "Brief (most recent runtime) analysis of execution times\n",
    "Approach 1: 13.6s\n",
    "Approach 2: 11.3s\n",
    "Approach 1: 11.8s\n",
    "\n",
    "so, maybe option 2 is best?"
   ]
  },
  {
   "cell_type": "code",
   "execution_count": 4,
   "metadata": {},
   "outputs": [
    {
     "name": "stdout",
     "output_type": "stream",
     "text": [
      "Total characters: 826\n"
     ]
    }
   ],
   "source": [
    "# **Approach 1: Using a While Loop**\n",
    "# In this approach, we'll use a `while` loop to repeatedly make requests to the API and retrieve paginated data until there is no more data left.\n",
    "\n",
    "import requests\n",
    "\n",
    "def fetch_characters(url):\n",
    "    all_characters = [] #initialize an empty list to store the deserialized response \n",
    "\n",
    "    while url:\n",
    "        response = requests.get(url)\n",
    "        data = response.json()\n",
    "        all_characters.extend(data['results'])\n",
    "        url = data['info']['next']  # Get URL of next page\n",
    "\n",
    "    return all_characters\n",
    "\n",
    "base_url = \"https://rickandmortyapi.com/api/character\"\n",
    "all_characters = fetch_characters(base_url)\n",
    "\n",
    "print(f\"Total characters: {len(all_characters)}\")"
   ]
  },
  {
   "cell_type": "markdown",
   "metadata": {},
   "source": [
    "Explanation Approach 1:\n",
    "1. We start by defining a function `fetch_characters` that takes the URL of the API endpoint as its parameter.\n",
    "2. Inside the function, we initialize an empty list `all_characters` to store all the characters retrieved.\n",
    "3. We use a `while` loop to repeatedly make API requests until there is no more `next` page URL available.\n",
    "4. Within the loop, we send a GET request to the current URL and retrieve the JSON response.\n",
    "5. We extend the `all_characters` list with the `results` from the response data, which contains characters for the current page.\n",
    "6. We update the `url` variable with the `next` page URL from the response data.\n",
    "7. The loop continues until there are no more pages to fetch.\n",
    "8. Finally, we return the complete list of characters.\n",
    "\n"
   ]
  },
  {
   "cell_type": "markdown",
   "metadata": {},
   "source": [
    "Valerie's Note on how to generalize the function in approach 1\n",
    "we could EASILY generalize this function to say fetch_records: something like this:\n",
    "***NOTE*** this is untested:\n",
    "\n",
    "modify the function so that it can be used with any API by passing a base URL and an endpoint as parameters. \n",
    "Here's the updated code:\n",
    "\n",
    "```python\n",
    "import requests\n",
    "\n",
    "def fetch_all_records(base_url, endpoint):\n",
    "    all_records = []\n",
    "\n",
    "    url = f\"{base_url}/{endpoint}\"  # Create the complete URL\n",
    "    \n",
    "    while url:\n",
    "        response = requests.get(url)\n",
    "        data = response.json()\n",
    "        \n",
    "        # Change this line to match the endpoint's key in the response data\n",
    "        all_records.extend(data[f'all_{endpoint}'])  \n",
    "\n",
    "        url = data['info']['next']  # Get URL of next page\n",
    "\n",
    "    return all_records\n",
    "\n",
    "base_url = \"https://rickandmortyapi.com/api\"\n",
    "endpoint = \"character\"\n",
    "all_characters = fetch_all_records(base_url, endpoint)\n",
    "\n",
    "print(f\"Total {endpoint}s: {len(all_characters)}\")\n",
    "```\n",
    "\n",
    "Explanation of changes:\n",
    "\n",
    "1. I've renamed the function to `fetch_all_records` to make it more general and descriptive.\n",
    "2. The function now takes two parameters: `base_url` and `endpoint`. These parameters will allow you to specify the base URL of any API and the specific endpoint you want to fetch.\n",
    "3. Inside the function, I've constructed the complete URL by combining the `base_url` and `endpoint`.\n",
    "4. The line that extends the `all_records` list has been modified to use `data[f'all_{endpoint}']`. This will extract the list of records using a dynamic key based on the endpoint provided. For example, if the endpoint is \"character\", it will use `data['all_character']`.\n",
    "5. The rest of the code remains the same.\n",
    "\n",
    "Now you can use this function to fetch data from any API endpoint by providing the appropriate `base_url` and `endpoint` parameters. Just make sure that the response structure matches the assumed structure (i.e., having a `\"results\"` field and an `\"info\"` field with a `\"next\"` field).\n",
    "\n"
   ]
  },
  {
   "cell_type": "markdown",
   "metadata": {},
   "source": [
    "Approach 1 generalized & Extended to include other endpoints\n",
    "\n",
    "base_url = \"https://rickandmortyapi.com/api\"\n",
    "endpoint = \"location\"\n",
    "all_locations = fetch_all_records(base_url, endpoint)\n",
    "\n",
    "print(f\"Total {endpoint}s: {len(all_locations)}\")\n",
    "\n",
    "\n",
    "base_url = \"https://rickandmortyapi.com/api\"\n",
    "endpoint = \"episodes\"\n",
    "all_episodes = fetch_all_records(base_url, endpoint)\n",
    "\n",
    "print(f\"Total {endpoint}s: {len(all_episodes)}\")"
   ]
  },
  {
   "cell_type": "code",
   "execution_count": 3,
   "metadata": {},
   "outputs": [
    {
     "name": "stdout",
     "output_type": "stream",
     "text": [
      "Total characters: 826\n"
     ]
    }
   ],
   "source": [
    "# **Approach 2: Using Recursive Function**\n",
    "# This approach uses a recursive function to achieve the same goal, making the code slightly more compact.\n",
    "\n",
    "import requests\n",
    "\n",
    "def fetch_characters_recursive(url, all_characters=[]):\n",
    "    response = requests.get(url)\n",
    "    data = response.json()\n",
    "    all_characters.extend(data['results'])\n",
    "    \n",
    "    if data['info']['next']:\n",
    "        fetch_characters_recursive(data['info']['next'], all_characters)\n",
    "\n",
    "    return all_characters\n",
    "\n",
    "base_url = \"https://rickandmortyapi.com/api/character\"\n",
    "all_characters = fetch_characters_recursive(base_url)\n",
    "\n",
    "print(f\"Total characters: {len(all_characters)}\")"
   ]
  },
  {
   "cell_type": "code",
   "execution_count": null,
   "metadata": {},
   "outputs": [],
   "source": [
    "Explanation Approach 2:\n",
    "1. Similar to the previous approach, we define a function `fetch_characters_recursive` that takes the URL and an optional parameter `all_characters` to store the characters.\n",
    "2. We send a GET request to the API endpoint and extend the `all_characters` list with the characters from the current page.\n",
    "3. If there is a `next` page URL available, we call the function recursively with the `next` page URL.\n",
    "4. This recursion continues until there are no more pages to fetch.\n",
    "5. Finally, we return the complete list of characters.\n"
   ]
  },
  {
   "cell_type": "markdown",
   "metadata": {},
   "source": [
    "## Valerie's thoughts on why the `next` key is useful and what happens on the last page of results\n",
    "When the `\"next\"` field in the API response is `null`, it means that there are no more pages of data to fetch. This signals the end of the pagination, and both of the provided examples will stop making further API requests. Let's break down what happens in each approach when the `\"next\"` field is `null`.\n",
    "\n",
    "**Approach 1: Using a While Loop**\n",
    "\n",
    "In the first approach, when the `\"next\"` field becomes `null`, the `while` loop's condition `while url:` will evaluate to `False`, and the loop will exit. This means that the loop stops iterating, and the function `fetch_characters` returns the complete list of characters that have been fetched from all the paginated pages.\n",
    "\n",
    "**Approach 2: Using Recursive Function**\n",
    "\n",
    "In the second approach, when the `\"next\"` field is `null`, the recursive function `fetch_characters_recursive` will not make any further calls to itself. The condition `if data['info']['next']:` checks whether the `\"next\"` field exists in the response data. If it does not exist or is `null`, the condition will evaluate to `False`, and the recursion will stop. As a result, the function will return the list of characters collected from all the paginated pages.\n",
    "\n",
    "Both approaches are designed to handle the scenario when there are no more pages to fetch. They ensure that the code execution stops once all available data has been retrieved from the API. This prevents unnecessary API requests and ensures that you have all the data you need for further analysis or processing."
   ]
  },
  {
   "cell_type": "markdown",
   "metadata": {},
   "source": [
    "Both approaches achieve the same result: they retrieve paginated data from the API and store it in a list. The first approach uses a `while` loop, while the second approach utilizes recursion. You can choose the one that feels more intuitive to you."
   ]
  },
  {
   "cell_type": "code",
   "execution_count": 2,
   "metadata": {},
   "outputs": [
    {
     "name": "stdout",
     "output_type": "stream",
     "text": [
      "Total characters: 826\n"
     ]
    }
   ],
   "source": [
    "# **Approach 3: using page number as a range**\n",
    "# If the API provides a `\"pages\"` field that indicates the total number of pages available, you can use that information to iterate a specific number of times and fetch all the data. \n",
    "# This can help optimize your code by making the exact number of required API requests.\n",
    "# \n",
    "import requests\n",
    "\n",
    "def fetch_characters_with_pages(url):\n",
    "    all_characters = []\n",
    "\n",
    "    response = requests.get(url)\n",
    "    data = response.json()\n",
    "    all_characters.extend(data['results'])\n",
    "\n",
    "    total_pages = data['info']['pages']\n",
    "    \n",
    "    for page_num in range(2, total_pages + 1):\n",
    "        response = requests.get(f\"{url}?page={page_num}\")\n",
    "        data = response.json()\n",
    "        all_characters.extend(data['results'])\n",
    "\n",
    "    return all_characters\n",
    "\n",
    "base_url = \"https://rickandmortyapi.com/api/character\"\n",
    "all_characters = fetch_characters_with_pages(base_url)\n",
    "\n",
    "print(f\"Total characters: {len(all_characters)}\")"
   ]
  },
  {
   "cell_type": "markdown",
   "metadata": {},
   "source": [
    "Explanation on Approach 3:\n",
    "1. We start by sending an initial API request to the base URL to retrieve the data from the first page.\n",
    "2. We extract the `\"pages\"` value from the response data, which indicates the total number of pages.\n",
    "3. We then use a `for` loop to iterate from page number 2 to the total number of pages. (see next cell for further breakdown of how this happens)\n",
    "4. Inside the loop, we send API requests to the URL with the `page` parameter to fetch each page's data.\n",
    "5. We extend the `all_characters` list with the characters from each page's response data.\n",
    "6. The loop continues until all pages have been fetched.\n",
    "7. Finally, we return the complete list of characters.\n",
    "\n",
    "By utilizing the `\"pages\"` field, we can iterate through the exact number of pages without making unnecessary API requests. This approach is efficient and ensures that you retrieve all the available data while minimizing the number of requests."
   ]
  },
  {
   "cell_type": "markdown",
   "metadata": {},
   "source": [
    "let's break down the purpose of the `2` and `+1` in the `range` function within the `for` loop.\n",
    "\n",
    "In Python, the `range` function generates a sequence of numbers, starting from the first argument up to (but not including) the second argument. The `range` function can also take a third argument, which specifies the step size between the numbers. Here's the general syntax of the `range` function:\n",
    "\n",
    "```python\n",
    "range(start, stop, step)\n",
    "```\n",
    "\n",
    "In the context of the code I provided:\n",
    "\n",
    "```python\n",
    "for page_num in range(2, total_pages + 1):\n",
    "```\n",
    "\n",
    "- `2` is the start value for the `range`. We start from page number 2 because we've already fetched data from the first page outside the loop. The loop iterates from page number 2 onwards to the total number of pages.\n",
    "- `total_pages + 1` is the stop value for the `range`. Since the `range` function generates numbers up to, but not including, the stop value, we add `1` to include the total number of pages. For example, if `total_pages` is `42`, this ensures that the loop iterates through pages 2 to 42 (inclusive).\n",
    "\n",
    "So, the `for` loop iterates over the range of page numbers, fetching data for each page and extending the `all_characters` list with the characters from each page. The purpose of the `2` and `+1` is to ensure that we iterate over the correct range of page numbers to fetch data for all available pages while excluding the first page that we already fetched outside the loop."
   ]
  }
 ],
 "metadata": {
  "kernelspec": {
   "display_name": "Python 3",
   "language": "python",
   "name": "python3"
  },
  "language_info": {
   "codemirror_mode": {
    "name": "ipython",
    "version": 3
   },
   "file_extension": ".py",
   "mimetype": "text/x-python",
   "name": "python",
   "nbconvert_exporter": "python",
   "pygments_lexer": "ipython3",
   "version": "3.10.10"
  },
  "orig_nbformat": 4
 },
 "nbformat": 4,
 "nbformat_minor": 2
}
