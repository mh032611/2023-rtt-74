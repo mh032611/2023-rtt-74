{
  "nbformat": 4,
  "nbformat_minor": 0,
  "metadata": {
    "colab": {
      "provenance": [],
      "include_colab_link": true
    },
    "kernelspec": {
      "name": "python3",
      "display_name": "Python 3"
    },
    "language_info": {
      "name": "python"
    }
  },
  "cells": [
    {
      "cell_type": "markdown",
      "metadata": {
        "id": "view-in-github",
        "colab_type": "text"
      },
      "source": [
        "<a href=\"https://colab.research.google.com/github/mh032611/2023-rtt-74/blob/master/ACT_342_2_2_Advanced_Python_Cumulative_Lab2.ipynb\" target=\"_parent\"><img src=\"https://colab.research.google.com/assets/colab-badge.svg\" alt=\"Open In Colab\"/></a>"
      ]
    },
    {
      "cell_type": "markdown",
      "source": [
        "#Accessing a Paginated API Endpoint to Explore Data- Part 2\n",
        "\n",
        "In this lab we will combine concepts that we have learned throughout the class so far. Some of those concepts are:\n",
        "\n",
        ">*   Importing Libraries\n",
        ">*   Looping through nested lists and Dictionaries\n",
        ">*   Make a request to an API Endpoint\n",
        ">*   Define functions based on a given set of conditions\n",
        ">*   Accessing and utilizing JSON data\n",
        ">*   Handling Exception Errors\n",
        ">*   Writing Pseudo-Code\n",
        "<br></br>\n",
        "\n",
        "To complete this lab we will be using data from a Star Wars API. The full documentation can be found here: https://swapi.dev/documentation#intro\n",
        "<br></br>\n",
        "We will be focusing on the \"Starship Resource\" in this lab.\n",
        "<br></br>\n",
        "**If you have not completed Cumulative Lab 1, please go back and complete this lab. This lab is similair, but with less informative instruction to help build your logic skills.**"
      ],
      "metadata": {
        "id": "A8ywYdA4gLIQ"
      }
    },
    {
      "cell_type": "markdown",
      "source": [
        "Import all of the required packages to complete this assignment. Include a package to print json in a tabular format."
      ],
      "metadata": {
        "id": "8h9R9GU9gRJb"
      }
    },
    {
      "cell_type": "code",
      "source": [],
      "metadata": {
        "id": "ghO4hSnnhESx"
      },
      "execution_count": null,
      "outputs": []
    },
    {
      "cell_type": "markdown",
      "source": [
        "Make your request to the API Endpoint and use a **WHILE** if neccessary to access multiple pages.\n",
        "<br></br>\n",
        "Save all of the responses in one Python Object. If you would like, save only the neccessary keys into a new Python Object."
      ],
      "metadata": {
        "id": "gp20BZExhKUG"
      }
    },
    {
      "cell_type": "code",
      "source": [],
      "metadata": {
        "id": "cQLnzwjXhV2v"
      },
      "execution_count": null,
      "outputs": []
    },
    {
      "cell_type": "markdown",
      "source": [
        "Define and call a function that returns all of the models of starships."
      ],
      "metadata": {
        "id": "zqYawPTMhnZf"
      }
    },
    {
      "cell_type": "code",
      "source": [],
      "metadata": {
        "id": "3kDs9Wsgi_M_"
      },
      "execution_count": null,
      "outputs": []
    },
    {
      "cell_type": "markdown",
      "source": [
        "Define and call a function that finds the ship that can carry the most cargo."
      ],
      "metadata": {
        "id": "9U5eFZuThvto"
      }
    },
    {
      "cell_type": "code",
      "source": [],
      "metadata": {
        "id": "kcu3Dsn8jc7V"
      },
      "execution_count": null,
      "outputs": []
    },
    {
      "cell_type": "markdown",
      "source": [
        "Define a function that returns the number of crew and passengers of a given Starship.\n",
        "\n",
        "Make at least two seperate function calls to test the functionality and any edge cases you can think of."
      ],
      "metadata": {
        "id": "_QehoXI3h0kC"
      }
    },
    {
      "cell_type": "code",
      "source": [],
      "metadata": {
        "id": "hVqkGPJhjeHy"
      },
      "execution_count": null,
      "outputs": []
    },
    {
      "cell_type": "markdown",
      "source": [
        "Define and call a function that finds the most expensive starship."
      ],
      "metadata": {
        "id": "3R9Ajo2CiYED"
      }
    },
    {
      "cell_type": "code",
      "source": [],
      "metadata": {
        "id": "efMWaO6wjesa"
      },
      "execution_count": null,
      "outputs": []
    },
    {
      "cell_type": "markdown",
      "source": [
        "Define a function that returns all the starships that are less than a given price.\n",
        "\n",
        "Make at least two seperate function calls to test the functionality and any edge cases you can think of."
      ],
      "metadata": {
        "id": "ojSP6wRkie0G"
      }
    },
    {
      "cell_type": "code",
      "source": [],
      "metadata": {
        "id": "CFE8QKRIjftl"
      },
      "execution_count": null,
      "outputs": []
    },
    {
      "cell_type": "markdown",
      "source": [
        "Define and a function to find the starships that have appeared in a given number of films.\n",
        "\n",
        "Make at least two seperate function calls to test the functionality and any edge cases you can think of."
      ],
      "metadata": {
        "id": "GhT4clOUioSJ"
      }
    },
    {
      "cell_type": "code",
      "source": [],
      "metadata": {
        "id": "B6l-bJtFjgev"
      },
      "execution_count": null,
      "outputs": []
    },
    {
      "cell_type": "markdown",
      "source": [
        "Define a function that finds the shortest and longest ship. Return should be the names of the ship in addition to the numeric values. Convert values into feet.\n",
        "\n",
        "Make at least two seperate function calls to test the functionality and any edge cases you can think of."
      ],
      "metadata": {
        "id": "EyrQ1Qa5jUay"
      }
    },
    {
      "cell_type": "code",
      "source": [],
      "metadata": {
        "id": "3cbkLHhIj7O2"
      },
      "execution_count": null,
      "outputs": []
    },
    {
      "cell_type": "markdown",
      "source": [
        "Define and call a function that returns the Starship Class(es) that do not carry any passengers."
      ],
      "metadata": {
        "id": "vQW17Mq8jwzX"
      }
    },
    {
      "cell_type": "code",
      "source": [],
      "metadata": {
        "id": "CHCUjCuVjhN0"
      },
      "execution_count": null,
      "outputs": []
    }
  ]
}