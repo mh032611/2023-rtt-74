{
  "cells": [
    {
      "cell_type": "markdown",
      "metadata": {
        "id": "pxsDnQkIGaay"
      },
      "source": [
        "Valerie's practice scenarios for learning Python's built-in `json` module with the provided JSON data.\n",
        "\n",
        "Note:  for all of these practice exercies you can use the file called employee_data_orig.json as the data source.  \n",
        "\n",
        "NOTE:  YOU WILL NEED TO RENAME IT!  if the exercise references a file called data.json and the file is called employee_data_orig.json.... the code wont find it!\n",
        "\n",
        "NOTE:  The Exercise Summary/Outline has the problem statements that you should try to solve for.  \n",
        "My solutions (just one way of solving each problem)"
      ]
    },
    {
      "cell_type": "markdown",
      "metadata": {
        "id": "J2AapALWGaa2"
      },
      "source": [
        "### JSON Python Module SIMPLE Problem Statements with Purpose and Syntax Discussion\n",
        "### Examine list comprehensions, iteraton,built-in functions, and file i/o operations\n",
        "### NOTE:  these are SIMPLISTIC solutions.\n",
        "\n",
        "##### Table of Contents\n",
        "\n",
        "1. **Reading JSON Data**: Load JSON data from a file and access specific information.\n",
        "2. **Count Employees**: Count the number of employees from the JSON data.\n",
        "3. **Filter by State**: Filter people based on a specific state.\n",
        "4. **Find Hobbies**: Find all unique hobbies from the JSON data.\n",
        "5. **Age Statistics**: Calculate the average age of people and find the youngest and oldest.\n",
        "6. **Update Email**: Update email address for a specific person and save the updated data back to the file.\n",
        "7. **Group by City**: Group people by their cities.\n",
        "8. **Check Hobbies**: Check if a person has a specific hobby.\n",
        "9. **Calculate Total Addresses**: Count the total number of unique addresses.\n",
        "10. **Sort by Age**: Sort people by age in ascending order.\n"
      ]
    },
    {
      "cell_type": "markdown",
      "metadata": {
        "id": "yOtiN-PRGaa3"
      },
      "source": [
        "### Exercise Summary/Outline\n",
        "**1. Reading JSON Data**:\n",
        "- This code imports the `json` module and uses it to load JSON data from a file called `'data.json'`.\n",
        "- It reads the data from the file using `json.load(json_file)` and stores it in the variable `data`.\n",
        "- Then, it accesses specific information (name, age, email) of the first person in the data and prints them.\n",
        "\n",
        "**2. Count Employees**:\n",
        "- This code uses a list comprehension to count the number of employees from the JSON data.\n",
        "- It iterates through each person in the data, and if the `'is_employee'` key is `True`, the person is considered an employee and added to the `employees` list.\n",
        "- The length of the `employees` list is calculated using `len()` to get the total number of employees.\n",
        "\n",
        "**3. Filter by State**:\n",
        "- This code filters people based on a specific state (e.g., \"TX\").\n",
        "- It uses a list comprehension to create a list of people who have an address state that matches the specified state.\n",
        "- It then prints the names of people in the filtered list.\n",
        "\n",
        "**4. Find Hobbies**:\n",
        "- This code finds all unique hobbies from the JSON data.\n",
        "- It uses a nested list comprehension to iterate through each person and their hobbies, creating a flat list of all hobbies.\n",
        "- The `set()` function is used to convert the list of hobbies into a set of unique hobbies.\n",
        "- The unique hobbies are then printed.\n",
        "\n",
        "**5. Age Statistics**:\n",
        "- This code calculates age statistics for people in the JSON data.\n",
        "- It creates a list of ages using a list comprehension.\n",
        "- It calculates the average age, youngest age (using `min()`), and oldest age (using `max()`).\n",
        "- The calculated statistics are printed.\n",
        "\n",
        "**6. Update Email**:\n",
        "- This code updates the email address for a specific person (e.g., \"John Doe\").\n",
        "- It iterates through each person and checks if their name matches the target name.\n",
        "- If a match is found, it updates the person's email and then writes the updated data back to the JSON file.\n",
        "\n",
        "**7. Group by City**:\n",
        "- This code groups people by their cities.\n",
        "- It uses a dictionary to store city names as keys and a list of people living in that city as values.\n",
        "- It iterates through each person, extracts their city, and adds their name to the corresponding city list in the dictionary.\n",
        "- It prints the city groups and the people in each city.\n",
        "\n",
        "**8. Check Hobbies**:\n",
        "- This code checks if a specific person (e.g., \"Alice Smith\") has a specific hobby (e.g., \"painting\").\n",
        "- It uses the `any()` function with a generator expression to check if the target hobby is in the list of hobbies for the specified person.\n",
        "- The result of the check is printed.\n",
        "\n",
        "**9. Calculate Total Addresses**:\n",
        "- This code calculates the total number of unique addresses from the JSON data.\n",
        "- It uses a set to store formatted address strings (combining street, city, state, and zip).\n",
        "- It iterates through each person, formats their address, and adds it to the set.\n",
        "- The length of the set is the total number of unique addresses.\n",
        "\n",
        "**10. Sort by Age**:\n",
        "- This code sorts people by age in ascending order.\n",
        "- It uses the `sorted()` function with a lambda function as the key to sort the data based on age.\n",
        "- The resulting sorted list is printed, displaying people's names and ages.\n",
        "\n",
        "**Syntax Choices**:\n",
        "- The code consistently uses meaningful variable names, making the code easy to understand.\n",
        "- List comprehensions are used for efficient and concise data processing.\n",
        "- Iteration through dictionaries is done using key access (e.g., `person['age']`).\n",
        "- The `with` statement is used to open files, ensuring proper handling and automatic closing.\n",
        "\n",
        "These examples demonstrate various ways the `json` module can be used to manipulate and analyze JSON data in real-world scenarios."
      ]
    },
    {
      "cell_type": "markdown",
      "metadata": {
        "id": "vO_G_oZRGaa3"
      },
      "source": [
        "# Spoiler Alert:  Solutions below!!!"
      ]
    },
    {
      "cell_type": "code",
      "execution_count": null,
      "metadata": {
        "id": "2II9UEjaGaa4"
      },
      "outputs": [],
      "source": [
        "#this is the base requirements for the rest of the activities\n",
        "import json\n",
        "\n",
        "# Load JSON data from a file\n",
        "with open('data.json', 'r') as json_file:  #did you copy and rename your file??\n",
        "    data = json.load(json_file)\n",
        "\n"
      ]
    },
    {
      "cell_type": "code",
      "execution_count": null,
      "metadata": {
        "id": "hLwKqyN7Gaa5"
      },
      "outputs": [],
      "source": [
        "# Problem 1: Reading JSON Data\n",
        "# Purpose: Load JSON data from a file and access specific information.\n",
        "# Syntax Choice: Using json.load() to read JSON data from a file and accessing specific keys in the JSON structure.\n",
        "print(\"** Problem 1: Reading JSON Data **\")\n",
        "# Open the JSON file and load its content into the 'data' variable\n",
        "print(\"Name:\", data[0]['name'])  # Access the 'name' key of the first person in the data\n",
        "print(\"Age:\", data[0]['age'])    # Access the 'age' key of the first person in the data\n",
        "print(\"Hobbies:\", data[0]['hobbies'])  # Access the 'email' key of the first person in the data\n",
        "# Get a list of all members (attributes) in the JSON module\n",
        "\n",
        "#Bonus.... How can we print JUST the 1st hobby, not the entire list?\n",
        "hobbies = data[0]['hobbies']\n",
        "hobby1 = [hobbies][0]\n",
        "print(\"First Hobby:\", hobbies[0])\n",
        "print(\"First Hobby:\", hobby1)\n",
        "print(\"Hobby 1:\", ['hobbies'])\n",
        "print(\"\\n\")\n",
        "\n"
      ]
    },
    {
      "cell_type": "code",
      "execution_count": null,
      "metadata": {
        "id": "TUS1i4QJGaa5"
      },
      "outputs": [],
      "source": [
        "# Problem 2: Count Employees\n",
        "# Purpose: Count the number of employees from the JSON data.\n",
        "# Syntax Choice: Using a list comprehension to filter and count employees based on the value of the 'is_employee' key.\n",
        "print(\"** Problem 2: Count Employees **\")\n",
        "# Create an empty list called 'employees'\n",
        "employees = []\n",
        "# Iterate through each 'person' in the 'data'\n",
        "for person in data:\n",
        "    if person['is_employee']:  # Check if the person's 'is_employee' value is True\n",
        "        employees.append(person)  # If True, add the person to the 'employees' list\n",
        "# Get the number of elements in the 'employees' list\n",
        "num_employees = len(employees)\n",
        "print(\"Number of employees:\", num_employees)\n",
        "print(\"\\n\")\n",
        "\n"
      ]
    },
    {
      "cell_type": "code",
      "execution_count": null,
      "metadata": {
        "id": "_RZHPxOKGaa5"
      },
      "outputs": [],
      "source": [
        "# Problem 3: Filter by State\n",
        "# Purpose: Filter people based on a specific state.\n",
        "# Syntax Choice: Using a list comprehension to filter people based on the value of the 'address' dictionary's 'state' key.\n",
        "print(\"** Problem 3: Filter by State **\")\n",
        "# Create an empty list called 'people_in_state'\n",
        "people_in_state = []\n",
        "state = \"TX\"  # Specify the state to filter\n",
        "# Iterate through each 'person' in the 'data'\n",
        "for person in data:\n",
        "    if person['address']['state'] == state:  # Check if the person's 'state' matches the specified state\n",
        "        people_in_state.append(person)  # If True, add the person to the 'people_in_state' list\n",
        "# Print the names of people in the specified state\n",
        "print(\"People in\", state, \":\", [person['name'] for person in people_in_state])\n",
        "print(\"\\n\")\n",
        "\n"
      ]
    },
    {
      "cell_type": "code",
      "execution_count": null,
      "metadata": {
        "id": "IKNOTDbdGaa6"
      },
      "outputs": [],
      "source": [
        "# Problem 4: Find Hobbies\n",
        "# Purpose: Find all unique hobbies from the JSON data.\n",
        "# Syntax Choice: Using nested list comprehension to extract all hobbies from each person and then converting the list to a set to get unique hobbies.\n",
        "print(\"** Problem 4: Find Hobbies **\")\n",
        "# Create an empty list called 'all_hobbies'\n",
        "all_hobbies = []\n",
        "# Iterate through each 'person' in the 'data'\n",
        "for person in data:\n",
        "    # Iterate through each 'hobby' in the 'person's hobbies list\n",
        "    for hobby in person['hobbies']:\n",
        "        all_hobbies.append(hobby)  # Add the hobby to the 'all_hobbies' list\n",
        "# Convert the list of hobbies into a set to get unique hobbies\n",
        "unique_hobbies = set(all_hobbies)\n",
        "print(\"Unique hobbies:\", unique_hobbies)\n",
        "print(\"\\n\")\n",
        "\n"
      ]
    },
    {
      "cell_type": "code",
      "execution_count": null,
      "metadata": {
        "id": "3P_rYsrzGaa6"
      },
      "outputs": [],
      "source": [
        "# Problem 5: Age Statistics\n",
        "# Purpose: Calculate the average age of people and find the youngest and oldest.\n",
        "# Syntax Choice: Using list comprehension to extract ages, and built-in functions sum(), min(), and max() to calculate statistics.\n",
        "print(\"** Problem 5: Age Statistics **\")\n",
        "# Create an empty list called 'ages'\n",
        "ages = []\n",
        "# Iterate through each 'person' in the 'data'\n",
        "for person in data:\n",
        "    ages.append(person['age'])  # Add the age of each person to the 'ages' list\n",
        "# Calculate the average age by summing ages and dividing by the count\n",
        "average_age = sum(ages) / len(ages)\n",
        "# Get the minimum age using the min() function\n",
        "youngest = min(ages)\n",
        "# Get the maximum age using the max() function\n",
        "oldest = max(ages)\n",
        "print(\"Average age:\", average_age)\n",
        "print(\"Youngest:\", youngest)\n",
        "print(\"Oldest:\", oldest)\n",
        "print(\"\\n\")\n",
        "\n"
      ]
    },
    {
      "cell_type": "code",
      "execution_count": null,
      "metadata": {
        "id": "Mfbos_tSGaa6"
      },
      "outputs": [],
      "source": [
        "# Problem 6: Update Email\n",
        "# Purpose: Update email address for a specific person and save the updated data back to the file.\n",
        "# Syntax Choice: Iterating through the JSON data to find the person to update and using json.dump() to write the updated data back to the file.\n",
        "print(\"** Problem 6: Update Email **\")\n",
        "# Specify the name to update and the new email\n",
        "name_to_update = \"John Doe\"\n",
        "new_email = \"john.new@example.com\"\n",
        "# Iterate through each 'person' in the 'data'\n",
        "for person in data:\n",
        "    if person['name'] == name_to_update:  # Check if the person's 'name' matches the specified name\n",
        "        person['email'] = new_email  # Update the person's email\n",
        "        break  # Exit the loop once the person is found and updated\n",
        "\n",
        "# Open the JSON file for writing and write the updated data with proper indentation\n",
        "with open('data.json', 'w') as json_file:\n",
        "    json.dump(data, json_file, indent=4)\n",
        "print(\"\\n\")\n",
        "\n"
      ]
    },
    {
      "cell_type": "code",
      "execution_count": null,
      "metadata": {
        "id": "nijLOOmWGaa6"
      },
      "outputs": [],
      "source": [
        "# Problem 7: Group by City\n",
        "# Purpose: Group people by their cities.\n",
        "# Syntax Choice: Using a loop to iterate through the data and create a dictionary that groups people by city.\n",
        "print(\"** Problem 7: Group by City **\")\n",
        "# Create an empty dictionary called 'city_groups'\n",
        "city_groups = {}\n",
        "# Iterate through each 'person' in the 'data'\n",
        "for person in data:\n",
        "    city = person['address']['city']  # Get the city of the person\n",
        "    # Check if the city is not already a key in 'city_groups'\n",
        "    if city not in city_groups:\n",
        "        city_groups[city] = []  # If not, create an empty list for that city\n",
        "    city_groups[city].append(person['name'])  # Append the person's name to the city's list\n",
        "# Display the city groups\n",
        "print(\"City groups:\")\n",
        "# Iterate through the keys and values of the 'city_groups' dictionary\n",
        "for city, people in city_groups.items():\n",
        "    print(city + \":\", people)  # Print each city and its associated list of people\n",
        "print(\"\\n\")\n"
      ]
    },
    {
      "cell_type": "code",
      "execution_count": null,
      "metadata": {
        "id": "ZwaoWKa8Gaa8"
      },
      "outputs": [],
      "source": [
        "# Problem 8: Check Hobbies\n",
        "# Purpose: Check if a person has a specific hobby.\n",
        "# Syntax Choice: Using any() function with a generator expression to check if the target hobby is present for a specific person.\n",
        "print(\"** Problem 8: Check Hobbies **\")\n",
        "# Specify the person's name and the target hobby\n",
        "person_name = \"Alice Smith\"\n",
        "target_hobby = \"painting\"\n",
        "# Iterate through each 'person' in the 'data'\n",
        "for person in data:\n",
        "    if person['name'] == person_name:  # Check if the person's 'name' matches the specified name\n",
        "        # Use a generator expression with 'any()' to check if the target hobby is present in the person's hobbies\n",
        "        has_hobby = any(target_hobby in hobby for hobby in person['hobbies'])\n",
        "        break  # Exit the loop once the person is found\n",
        "# Display the result\n",
        "print(person_name, \"has\", target_hobby, \"hobby:\", has_hobby)\n",
        "print(\"\\n\")\n",
        "\n"
      ]
    },
    {
      "cell_type": "code",
      "execution_count": null,
      "metadata": {
        "id": "ThpqfqjgGaa8"
      },
      "outputs": [],
      "source": [
        "# Problem 9: Calculate Total Addresses\n",
        "# Purpose: Count the total number of unique addresses.\n",
        "# Syntax Choice: Using a set to store unique address strings created from the address dictionary.\n",
        "print(\"** Problem 9: Calculate Total Addresses **\")\n",
        "# Create an empty set called 'addresses'\n",
        "addresses = set()\n",
        "# Iterate through each 'person' in the 'data'\n",
        "for person in data:\n",
        "    address = person['address']  # Get the address dictionary of the person\n",
        "    # Create a formatted address string\n",
        "    address_str = f\"{address['street']} {address['city']} {address['state']} {address['zip']}\"\n",
        "    addresses.add(address_str)  # Add the formatted address string to the 'addresses' set\n",
        "\n",
        "# Get the number of elements in the 'addresses' set to calculate the total unique addresses\n",
        "total_unique_addresses = len(addresses)\n",
        "# Display the result\n",
        "print(\"Total unique addresses:\", total_unique_addresses)\n",
        "print(\"\\n\")\n",
        "\n"
      ]
    },
    {
      "cell_type": "code",
      "execution_count": null,
      "metadata": {
        "id": "pcOvRansGaa8"
      },
      "outputs": [],
      "source": [
        "# Problem 10: Sort by Age\n",
        "# Purpose: Sort people by age in ascending order.\n",
        "# Syntax Choice: Using the sorted() function with a custom sorting key defined using a lambda function.\n",
        "print(\"** Problem 10: Sort by Age **\")\n",
        "# Sort the 'data' list by age using the 'sorted()' function with a lambda function as the key\n",
        "sorted_by_age = sorted(data, key=lambda x: x['age'])\n",
        "# Display the sorted list\n",
        "print(\"People sorted by age:\")\n",
        "# Iterate through each 'person' in the 'sorted_by_age' list\n",
        "for person in sorted_by_age:\n",
        "    print(person['name'], \"-\", person['age'])  # Print the person's name and age\n",
        "print(\"\\n\")\n"
      ]
    }
  ],
  "metadata": {
    "kernelspec": {
      "display_name": "Python 3",
      "language": "python",
      "name": "python3"
    },
    "language_info": {
      "codemirror_mode": {
        "name": "ipython",
        "version": 3
      },
      "file_extension": ".py",
      "mimetype": "text/x-python",
      "name": "python",
      "nbconvert_exporter": "python",
      "pygments_lexer": "ipython3",
      "version": "3.10.10"
    },
    "orig_nbformat": 4,
    "colab": {
      "provenance": []
    }
  },
  "nbformat": 4,
  "nbformat_minor": 0
}